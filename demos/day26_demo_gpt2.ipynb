{
  "cells": [
    {
      "cell_type": "markdown",
      "metadata": {
        "id": "view-in-github",
        "colab_type": "text"
      },
      "source": [
        "<a href=\"https://colab.research.google.com/github/scottspurlock/csc4422-s2024/blob/main/demos/day26_demo_gpt2.ipynb\" target=\"_parent\"><img src=\"https://colab.research.google.com/assets/colab-badge.svg\" alt=\"Open In Colab\"/></a>"
      ]
    },
    {
      "cell_type": "markdown",
      "metadata": {
        "id": "NKGBoVwuhM4H"
      },
      "source": [
        "# DMML Day 26 Demo: Fine-tuning GPT2\n",
        "Adapted from: https://colab.research.google.com/drive/13dZVYEOMhXhkXWfvSMVM1TTtUDrT6Aeh?usp=sharing\n"
      ]
    },
    {
      "cell_type": "markdown",
      "metadata": {
        "id": "Xf3Qw77SZGbS"
      },
      "source": [
        "# Setup"
      ]
    },
    {
      "cell_type": "code",
      "execution_count": null,
      "metadata": {
        "id": "0NmMdkZO8R6q"
      },
      "outputs": [],
      "source": [
        "# !pip install transformers"
      ]
    },
    {
      "cell_type": "code",
      "execution_count": null,
      "metadata": {
        "id": "JCCeyhuDHdOu"
      },
      "outputs": [],
      "source": [
        "import os\n",
        "import time\n",
        "import datetime\n",
        "\n",
        "import pandas as pd\n",
        "import seaborn as sns\n",
        "import numpy as np\n",
        "import random\n",
        "\n",
        "import matplotlib.pyplot as plt\n",
        "\n",
        "import torch\n",
        "from torch.utils.data import Dataset, DataLoader, random_split, RandomSampler, SequentialSampler\n",
        "torch.manual_seed(42)\n",
        "\n",
        "from transformers import GPT2LMHeadModel,  GPT2Tokenizer, GPT2Config, GPT2LMHeadModel\n",
        "from transformers import AdamW, get_linear_schedule_with_warmup"
      ]
    },
    {
      "cell_type": "code",
      "execution_count": null,
      "metadata": {
        "colab": {
          "base_uri": "https://localhost:8080/"
        },
        "id": "satxtOn9CzgR",
        "outputId": "eb00ec7e-496e-45d3-d179-8ea1736773c6"
      },
      "outputs": [
        {
          "name": "stdout",
          "output_type": "stream",
          "text": [
            "Mon May  6 11:26:05 2024       \n",
            "+---------------------------------------------------------------------------------------+\n",
            "| NVIDIA-SMI 535.54.03              Driver Version: 535.54.03    CUDA Version: 12.2     |\n",
            "|-----------------------------------------+----------------------+----------------------+\n",
            "| GPU  Name                 Persistence-M | Bus-Id        Disp.A | Volatile Uncorr. ECC |\n",
            "| Fan  Temp   Perf          Pwr:Usage/Cap |         Memory-Usage | GPU-Util  Compute M. |\n",
            "|                                         |                      |               MIG M. |\n",
            "|=========================================+======================+======================|\n",
            "|   0  NVIDIA TITAN RTX               Off | 00000000:03:00.0  On |                  N/A |\n",
            "| 41%   32C    P8              16W / 280W |    318MiB / 24576MiB |      0%      Default |\n",
            "|                                         |                      |                  N/A |\n",
            "+-----------------------------------------+----------------------+----------------------+\n",
            "                                                                                         \n",
            "+---------------------------------------------------------------------------------------+\n",
            "| Processes:                                                                            |\n",
            "|  GPU   GI   CI        PID   Type   Process name                            GPU Memory |\n",
            "|        ID   ID                                                             Usage      |\n",
            "|=======================================================================================|\n",
            "|    0   N/A  N/A      3590      G   /usr/lib/xorg/Xorg                           99MiB |\n",
            "|    0   N/A  N/A      3816      G   /usr/bin/gnome-shell                         60MiB |\n",
            "|    0   N/A  N/A      7263      G   ...irefox/3252/usr/lib/firefox/firefox      155MiB |\n",
            "+---------------------------------------------------------------------------------------+\n"
          ]
        }
      ],
      "source": [
        "!nvidia-smi"
      ]
    },
    {
      "cell_type": "code",
      "execution_count": null,
      "metadata": {
        "id": "pZALgBCaRdfN"
      },
      "outputs": [],
      "source": [
        "# run on the gpu if available\n",
        "device = 'cpu'\n",
        "if torch.cuda.is_available():\n",
        "    device = 'cuda'"
      ]
    },
    {
      "cell_type": "markdown",
      "metadata": {
        "id": "cMml12FJGjPW"
      },
      "source": [
        "# GPT2 Tokenizer"
      ]
    },
    {
      "cell_type": "code",
      "execution_count": null,
      "metadata": {
        "colab": {
          "base_uri": "https://localhost:8080/",
          "referenced_widgets": [
            "730c4d002349463d8e3b5920813acf87",
            "f45eb740adf14ed3a4b18d7d16cacfe0",
            "1f0707a9e3e04de89f257bb0b56e4b0f",
            "47d508c34e53457daf3d58e8c3113da5",
            "7af78baf0a4c42aab4303ed1bafe5e72"
          ]
        },
        "id": "Z474sSC6oe7A",
        "outputId": "67c715c2-cb75-4fb7-dd5f-723b43aa0c50"
      },
      "outputs": [
        {
          "name": "stderr",
          "output_type": "stream",
          "text": [
            "/home/scott/anaconda3/envs/torch/lib/python3.11/site-packages/huggingface_hub/file_download.py:1132: FutureWarning: `resume_download` is deprecated and will be removed in version 1.0.0. Downloads always resume when possible. If you want to force a new download, use `force_download=True`.\n",
            "  warnings.warn(\n"
          ]
        },
        {
          "data": {
            "application/vnd.jupyter.widget-view+json": {
              "model_id": "730c4d002349463d8e3b5920813acf87",
              "version_major": 2,
              "version_minor": 0
            },
            "text/plain": [
              "tokenizer_config.json:   0%|          | 0.00/26.0 [00:00<?, ?B/s]"
            ]
          },
          "metadata": {},
          "output_type": "display_data"
        },
        {
          "data": {
            "application/vnd.jupyter.widget-view+json": {
              "model_id": "f45eb740adf14ed3a4b18d7d16cacfe0",
              "version_major": 2,
              "version_minor": 0
            },
            "text/plain": [
              "vocab.json:   0%|          | 0.00/1.04M [00:00<?, ?B/s]"
            ]
          },
          "metadata": {},
          "output_type": "display_data"
        },
        {
          "data": {
            "application/vnd.jupyter.widget-view+json": {
              "model_id": "1f0707a9e3e04de89f257bb0b56e4b0f",
              "version_major": 2,
              "version_minor": 0
            },
            "text/plain": [
              "merges.txt:   0%|          | 0.00/456k [00:00<?, ?B/s]"
            ]
          },
          "metadata": {},
          "output_type": "display_data"
        },
        {
          "data": {
            "application/vnd.jupyter.widget-view+json": {
              "model_id": "47d508c34e53457daf3d58e8c3113da5",
              "version_major": 2,
              "version_minor": 0
            },
            "text/plain": [
              "tokenizer.json:   0%|          | 0.00/1.36M [00:00<?, ?B/s]"
            ]
          },
          "metadata": {},
          "output_type": "display_data"
        },
        {
          "data": {
            "application/vnd.jupyter.widget-view+json": {
              "model_id": "7af78baf0a4c42aab4303ed1bafe5e72",
              "version_major": 2,
              "version_minor": 0
            },
            "text/plain": [
              "config.json:   0%|          | 0.00/718 [00:00<?, ?B/s]"
            ]
          },
          "metadata": {},
          "output_type": "display_data"
        }
      ],
      "source": [
        "# Load the GPT tokenizer\n",
        "tokenizer = GPT2Tokenizer.from_pretrained('gpt2-medium')"
      ]
    },
    {
      "cell_type": "code",
      "execution_count": null,
      "metadata": {
        "colab": {
          "base_uri": "https://localhost:8080/"
        },
        "id": "DiaXOYCTLhSB",
        "outputId": "70d760b9-1ed3-4851-96c9-9ff2ae88c542"
      },
      "outputs": [
        {
          "name": "stdout",
          "output_type": "stream",
          "text": [
            "tensor([[  464,  2068,  7586, 21831]], device='cuda:0')\n"
          ]
        }
      ],
      "source": [
        "prompt = 'The quick brown fox'\n",
        "\n",
        "tokens = torch.tensor(tokenizer.encode(prompt)).unsqueeze(0)\n",
        "tokens = tokens.to(device)\n",
        "\n",
        "print(tokens)"
      ]
    },
    {
      "cell_type": "markdown",
      "metadata": {
        "id": "thUxuIF0L03m"
      },
      "source": [
        "## Load the pre-trained model"
      ]
    },
    {
      "cell_type": "code",
      "execution_count": null,
      "metadata": {
        "id": "hntwvuj0L3V5",
        "outputId": "d7691ec3-12c6-4ba9-d5a6-a5add9c5bf35",
        "colab": {
          "referenced_widgets": [
            "510cf9e068a0431085d54945c925ccc4",
            "b27e7521a5df467aacd759131c4f1cb2"
          ]
        }
      },
      "outputs": [
        {
          "data": {
            "application/vnd.jupyter.widget-view+json": {
              "model_id": "510cf9e068a0431085d54945c925ccc4",
              "version_major": 2,
              "version_minor": 0
            },
            "text/plain": [
              "model.safetensors:   0%|          | 0.00/1.52G [00:00<?, ?B/s]"
            ]
          },
          "metadata": {},
          "output_type": "display_data"
        },
        {
          "data": {
            "application/vnd.jupyter.widget-view+json": {
              "model_id": "b27e7521a5df467aacd759131c4f1cb2",
              "version_major": 2,
              "version_minor": 0
            },
            "text/plain": [
              "generation_config.json:   0%|          | 0.00/124 [00:00<?, ?B/s]"
            ]
          },
          "metadata": {},
          "output_type": "display_data"
        }
      ],
      "source": [
        "# instantiate the model\n",
        "model = GPT2LMHeadModel.from_pretrained('gpt2-medium')\n",
        "model = model.to(device)"
      ]
    },
    {
      "cell_type": "markdown",
      "metadata": {
        "id": "E3wP7eEnLdG_"
      },
      "source": [
        "## Generate data from pre-trained model"
      ]
    },
    {
      "cell_type": "code",
      "execution_count": null,
      "metadata": {
        "colab": {
          "base_uri": "https://localhost:8080/"
        },
        "id": "A_FxPR7cQnTd",
        "outputId": "e650340d-906b-43c9-b4e5-88586e17925a"
      },
      "outputs": [
        {
          "name": "stderr",
          "output_type": "stream",
          "text": [
            "The attention mask and the pad token id were not set. As a consequence, you may observe unexpected behavior. Please pass your input's `attention_mask` to obtain reliable results.\n",
            "Setting `pad_token_id` to `eos_token_id`:50256 for open-end generation.\n"
          ]
        },
        {
          "name": "stdout",
          "output_type": "stream",
          "text": [
            "0: The quick brown fox jumps the pond... and then the fox jumps a creek. When I was growing up, I never read the newspaper — all I knew was the news.\"\n",
            "\n",
            "When I arrived at Texas A&M, my classes ended and my teacher's duties were taken from me. It wasn't until I joined the faculty in the school's College of Communication that I began to explore the different ways in which the media interacts with campus and the media's impact on students' everyday lives. I started working with various media students, from students at nearby schools to graduates of the College of Education in the United States, Mexico, and Venezuela, and worked with reporters from Mexico's La Jornada de America on stories. From there, I began to investigate the ways in which students from different backgrounds might interact and interact with each other through various media sources.\n",
            "\n",
            "To me, media is like social media; there are some people who use them but most of us just use the network itself. In fact, I became frustrated with my teachers in Texas A&M because they didn't understand what I was trying to accomplish with them. They seemed incapable of seeing how much it meant to them to be a part of the process when it came to understanding the interactions I had with the media and its impact on our campus and our students' lives.\n",
            "\n",
            "In my current job, my students now receive weekly reports from their teachers and from the Media, Film, and Communications Department on the ways\n",
            "\n",
            "\n",
            "1: The quick brown fox jumps over the lazy dog)\n",
            "\n",
            "(The quick brown fox jumps over the lazy dog)\n",
            "\n",
            "(A couple of days later. A redhead walks into the kitchen. She's wearing a skirt that has \"The quick brown fox jumped over the lazy dog\" written on it. The quick brown fox looks at the redhead, who puts her hand over her mouth to hide her smile. Then the quick brown fox looks at her right arm, and puts his hand under her chin to reveal a smile.)\n",
            "\n",
            "(The quick brown fox says, \"How's your leg, redhead?\")\n",
            "\n",
            "(The redhead says, \"Better than a good hot dog. It's good that you didn't want to eat it. But I sure don't.\")\n",
            "\n",
            "(The quick brown fox shakes his head.)\n",
            "\n",
            "(The redhead says, \"You never eat chicken in your life. Maybe some time soon.\")\n",
            "\n",
            "(The quick brown fox says, \"Okay, you're outta there. The fast blue fox is gonna stay. And that's that.\")\n",
            "\n",
            "(The quick brown fox turns to the white rabbit. He puts a finger to his mouth, and says, \"What were you going to say?\")\n",
            "\n",
            "(The rabbit says, \"I don't want to answer a question like that. It's rude.\")\n",
            "\n",
            "(The rabbit says, \"So you're out of here. The quick brown fox\n",
            "\n",
            "\n",
            "2: The quick brown fox jumps over the lazy dog,\" he said.\n",
            "\n",
            "But as the show continued, Mr Brown came to believe the joke was at odds with what the audience expected.\n",
            "\n",
            "\n"
          ]
        }
      ],
      "source": [
        "sample_outputs = model.generate(\n",
        "                                tokens,\n",
        "                                do_sample=True,\n",
        "                                top_k=50,\n",
        "                                max_length=300,\n",
        "                                top_p=0.95,\n",
        "                                num_return_sequences=3\n",
        "                                )\n",
        "\n",
        "for i, sample_output in enumerate(sample_outputs):\n",
        "  print(\"{}: {}\\n\\n\".format(i, tokenizer.decode(sample_output, skip_special_tokens=True)))"
      ]
    },
    {
      "cell_type": "markdown",
      "metadata": {
        "id": "yNURG8EtRwvO"
      },
      "source": [
        "## Get some data to fine-tune the model with"
      ]
    },
    {
      "cell_type": "code",
      "execution_count": null,
      "metadata": {
        "colab": {
          "base_uri": "https://localhost:8080/",
          "height": 206
        },
        "id": "ya3zsH0r-3JK",
        "outputId": "9e765993-90e3-4018-b6bd-a53f05eea42f"
      },
      "outputs": [
        {
          "data": {
            "text/html": [
              "<div>\n",
              "<style scoped>\n",
              "    .dataframe tbody tr th:only-of-type {\n",
              "        vertical-align: middle;\n",
              "    }\n",
              "\n",
              "    .dataframe tbody tr th {\n",
              "        vertical-align: top;\n",
              "    }\n",
              "\n",
              "    .dataframe thead th {\n",
              "        text-align: right;\n",
              "    }\n",
              "</style>\n",
              "<table border=\"1\" class=\"dataframe\">\n",
              "  <thead>\n",
              "    <tr style=\"text-align: right;\">\n",
              "      <th></th>\n",
              "      <th>0</th>\n",
              "    </tr>\n",
              "  </thead>\n",
              "  <tbody>\n",
              "    <tr>\n",
              "      <th>1</th>\n",
              "      <td>Before we proceed any further, hear me speak.</td>\n",
              "    </tr>\n",
              "    <tr>\n",
              "      <th>5</th>\n",
              "      <td>You are all resolved rather to die than to famish?</td>\n",
              "    </tr>\n",
              "    <tr>\n",
              "      <th>9</th>\n",
              "      <td>First, you know Caius Marcius is chief enemy to the people.</td>\n",
              "    </tr>\n",
              "    <tr>\n",
              "      <th>13</th>\n",
              "      <td>Let us kill him, and we'll have corn at our own price.</td>\n",
              "    </tr>\n",
              "    <tr>\n",
              "      <th>16</th>\n",
              "      <td>No more talking on't; let it be done: away, away!</td>\n",
              "    </tr>\n",
              "  </tbody>\n",
              "</table>\n",
              "</div>"
            ],
            "text/plain": [
              "                                                              0\n",
              "1                 Before we proceed any further, hear me speak.\n",
              "5            You are all resolved rather to die than to famish?\n",
              "9   First, you know Caius Marcius is chief enemy to the people.\n",
              "13       Let us kill him, and we'll have corn at our own price.\n",
              "16            No more talking on't; let it be done: away, away!"
            ]
          },
          "execution_count": 8,
          "metadata": {},
          "output_type": "execute_result"
        }
      ],
      "source": [
        "pd.set_option('display.max_colwidth', None)\n",
        "\n",
        "df = pd.read_csv('https://drive.google.com/uc?export=download&id=19Pw8jY8zRvC2GeFy4Vm_q1e1cnxNhRMA', sep='\\t', header=None)\n",
        "\n",
        "df = df.dropna()\n",
        "\n",
        "# get rid of short rows\n",
        "mask = df[0].str.len() > 30\n",
        "df = df[mask]\n",
        "\n",
        "df.head()"
      ]
    },
    {
      "cell_type": "code",
      "execution_count": null,
      "metadata": {
        "colab": {
          "base_uri": "https://localhost:8080/"
        },
        "id": "_U3m6wr3Ahzt",
        "outputId": "f54d8a2b-708c-49f2-feca-f7ad3fd67da3"
      },
      "outputs": [
        {
          "data": {
            "text/plain": [
              "1                   Before we proceed any further, hear me speak.\n",
              "5              You are all resolved rather to die than to famish?\n",
              "9     First, you know Caius Marcius is chief enemy to the people.\n",
              "13         Let us kill him, and we'll have corn at our own price.\n",
              "16              No more talking on't; let it be done: away, away!\n",
              "Name: 0, dtype: object"
            ]
          },
          "execution_count": 9,
          "metadata": {},
          "output_type": "execute_result"
        }
      ],
      "source": [
        "overviews = df.iloc[:5000, 0]\n",
        "overviews.head()"
      ]
    },
    {
      "cell_type": "markdown",
      "metadata": {
        "id": "ex5O1eV-Pfct"
      },
      "source": [
        "# PyTorch Datasets & Dataloaders\n"
      ]
    },
    {
      "cell_type": "code",
      "execution_count": null,
      "metadata": {
        "id": "scqrzmqhV__z"
      },
      "outputs": [],
      "source": [
        "# keep batch_size small to avoid running out of memory while training\n",
        "batch_size = 2"
      ]
    },
    {
      "cell_type": "markdown",
      "metadata": {
        "id": "lqGMee7Isfpx"
      },
      "source": [
        "Make a standard PyTorch dataset class\n",
        "- https://pytorch.org/tutorials/beginner/data_loading_tutorial.html\n",
        "\n",
        "\n",
        "The dataset class loads the data, tokenizes it, and makes sure each example is the same length by truncating or padding as needed.\n",
        "\n",
        "Each example gets an attention mask to tell the model to ignore any padding.\n",
        "\n",
        "More info about the tokenizer:\n",
        "- https://huggingface.co/transformers/main_classes/tokenizer.html"
      ]
    },
    {
      "cell_type": "code",
      "execution_count": null,
      "metadata": {
        "id": "U_XJVIetKN-h"
      },
      "outputs": [],
      "source": [
        "class GPT2Dataset(Dataset):\n",
        "\n",
        "  def __init__(self, txt_list, tokenizer, gpt2_type=\"gpt2\", max_length=768):\n",
        "\n",
        "    self.tokenizer = tokenizer\n",
        "    self.input_ids = []\n",
        "    self.attn_masks = []\n",
        "\n",
        "    for txt in txt_list:\n",
        "\n",
        "      encodings_dict = tokenizer('<|startoftext|>'+ txt + '<|endoftext|>', truncation=True, max_length=max_length, padding=\"max_length\")\n",
        "\n",
        "      self.input_ids.append(torch.tensor(encodings_dict['input_ids']))\n",
        "      self.attn_masks.append(torch.tensor(encodings_dict['attention_mask']))\n",
        "\n",
        "  def __len__(self):\n",
        "    return len(self.input_ids)\n",
        "\n",
        "  def __getitem__(self, idx):\n",
        "    return self.input_ids[idx], self.attn_masks[idx]"
      ]
    },
    {
      "cell_type": "markdown",
      "metadata": {
        "id": "je1a17F8lyTJ"
      },
      "source": [
        "#### Set up bos, eos, and padding tokens"
      ]
    },
    {
      "cell_type": "code",
      "execution_count": null,
      "metadata": {
        "colab": {
          "base_uri": "https://localhost:8080/"
        },
        "id": "3sH3gfPol4NU",
        "outputId": "85d44ca5-04dd-44cf-f31f-fc803591beec"
      },
      "outputs": [
        {
          "name": "stderr",
          "output_type": "stream",
          "text": [
            "/home/scott/anaconda3/envs/torch/lib/python3.11/site-packages/huggingface_hub/file_download.py:1132: FutureWarning: `resume_download` is deprecated and will be removed in version 1.0.0. Downloads always resume when possible. If you want to force a new download, use `force_download=True`.\n",
            "  warnings.warn(\n"
          ]
        },
        {
          "name": "stdout",
          "output_type": "stream",
          "text": [
            "The beginning of sequence token <|startoftext|> token has the id 50257\n",
            "The end of sequence token <|endoftext|> has the id 50256\n",
            "The padding token <|pad|> has the id 50258\n"
          ]
        }
      ],
      "source": [
        "tokenizer = GPT2Tokenizer.from_pretrained('gpt2-medium', bos_token='<|startoftext|>', eos_token='<|endoftext|>', pad_token='<|pad|>')\n",
        "\n",
        "print(f'The beginning of sequence token {tokenizer.convert_ids_to_tokens(tokenizer.bos_token_id)} token has the id {tokenizer.bos_token_id}')\n",
        "print(f'The end of sequence token {tokenizer.convert_ids_to_tokens(tokenizer.eos_token_id)} has the id {tokenizer.eos_token_id}')\n",
        "print(f'The padding token {tokenizer.convert_ids_to_tokens(tokenizer.pad_token_id)} has the id {tokenizer.pad_token_id}')\n",
        "\n",
        "# instantiate the model\n",
        "model = GPT2LMHeadModel.from_pretrained('gpt2-medium')\n",
        "\n",
        "# this step is necessary because we've added some tokens (bos_token, etc) to the embeddings\n",
        "# otherwise the tokenizer and model tensors won't match up\n",
        "model.resize_token_embeddings(len(tokenizer))\n",
        "model = model.to(device)"
      ]
    },
    {
      "cell_type": "code",
      "execution_count": null,
      "metadata": {
        "colab": {
          "base_uri": "https://localhost:8080/"
        },
        "id": "Xza_O1_rD7yh",
        "outputId": "a36d2970-b163-443c-8cfc-3a82548212bf"
      },
      "outputs": [
        {
          "name": "stdout",
          "output_type": "stream",
          "text": [
            "4,500 training samples\n",
            "  500 validation samples\n"
          ]
        }
      ],
      "source": [
        "dataset = GPT2Dataset(overviews, tokenizer, max_length=768)\n",
        "\n",
        "# Split into training and validation sets\n",
        "train_size = int(0.9 * len(dataset))\n",
        "val_size = len(dataset) - train_size\n",
        "\n",
        "train_dataset, val_dataset = random_split(dataset, [train_size, val_size])\n",
        "\n",
        "print(f'{train_size:>5,} training samples')\n",
        "print(f'{val_size:>5,} validation samples')"
      ]
    },
    {
      "cell_type": "code",
      "execution_count": null,
      "metadata": {
        "id": "x0WeP5PREUuy"
      },
      "outputs": [],
      "source": [
        "# Create the DataLoaders for our training and validation datasets.\n",
        "# We'll take training samples in random order.\n",
        "train_dataloader = DataLoader(\n",
        "            train_dataset,  # The training samples.\n",
        "            sampler = RandomSampler(train_dataset), # Select batches randomly\n",
        "            batch_size = batch_size # Trains with this batch size.\n",
        "        )\n",
        "\n",
        "# For validation the order doesn't matter, so we'll just read them sequentially.\n",
        "validation_dataloader = DataLoader(\n",
        "            val_dataset, # The validation samples.\n",
        "            sampler = SequentialSampler(val_dataset), # Pull out batches sequentially.\n",
        "            batch_size = batch_size # Evaluate with this batch size.\n",
        "        )"
      ]
    },
    {
      "cell_type": "markdown",
      "metadata": {
        "id": "D6TKgyUzPIQc"
      },
      "source": [
        "# Finetune GPT2 Language Model"
      ]
    },
    {
      "cell_type": "code",
      "execution_count": null,
      "metadata": {
        "id": "zJe0yF2eU-UT"
      },
      "outputs": [],
      "source": [
        "# model = GPT2LMHeadModel.from_pretrained('gpt2')\n",
        "# # model.resize_token_embeddings(len(tokenizer))\n",
        "# device = torch.device(\"cuda\")\n",
        "# model.cuda()\n"
      ]
    },
    {
      "cell_type": "code",
      "execution_count": null,
      "metadata": {
        "id": "pBEVY2PYSTXJ"
      },
      "outputs": [],
      "source": [
        "epochs = 5\n",
        "learning_rate = 5e-4\n",
        "warmup_steps = 100\n",
        "epsilon = 1e-8\n",
        "\n",
        "# this produces sample output every 100 steps\n",
        "sample_every = 100"
      ]
    },
    {
      "cell_type": "code",
      "execution_count": null,
      "metadata": {
        "colab": {
          "base_uri": "https://localhost:8080/"
        },
        "id": "GLs72DuMODJO",
        "outputId": "5f52dc44-6e87-43a5-c9ce-33a83381ad86"
      },
      "outputs": [
        {
          "name": "stderr",
          "output_type": "stream",
          "text": [
            "/home/scott/anaconda3/envs/torch/lib/python3.11/site-packages/transformers/optimization.py:521: FutureWarning: This implementation of AdamW is deprecated and will be removed in a future version. Use the PyTorch implementation torch.optim.AdamW instead, or set `no_deprecation_warning=True` to disable this warning\n",
            "  warnings.warn(\n"
          ]
        }
      ],
      "source": [
        "# Note: AdamW is a class from the huggingface library (as opposed to pytorch)\n",
        "optimizer = AdamW(model.parameters(),\n",
        "                  lr = learning_rate,\n",
        "                  eps = epsilon\n",
        "                )"
      ]
    },
    {
      "cell_type": "code",
      "execution_count": null,
      "metadata": {
        "id": "-p0upAhhRiIx"
      },
      "outputs": [],
      "source": [
        "# Total number of training steps is [number of batches] x [number of epochs].\n",
        "# (Note that this is not the same as the number of training samples).\n",
        "total_steps = len(train_dataloader) * epochs\n",
        "\n",
        "# Create the learning rate scheduler.\n",
        "# This changes the learning rate as the training loop progresses\n",
        "scheduler = get_linear_schedule_with_warmup(optimizer,\n",
        "                                            num_warmup_steps = warmup_steps,\n",
        "                                            num_training_steps = total_steps)"
      ]
    },
    {
      "cell_type": "code",
      "execution_count": null,
      "metadata": {
        "id": "gpt6tR83keZD"
      },
      "outputs": [],
      "source": [
        "def format_time(elapsed):\n",
        "    return str(datetime.timedelta(seconds=int(round((elapsed)))))"
      ]
    },
    {
      "cell_type": "code",
      "execution_count": null,
      "metadata": {
        "colab": {
          "base_uri": "https://localhost:8080/",
          "height": 1000
        },
        "id": "vCPohrZ-CTWu",
        "outputId": "238bc569-a42d-4db3-9221-6fb8967ce378"
      },
      "outputs": [
        {
          "name": "stdout",
          "output_type": "stream",
          "text": [
            "\n",
            "======== Epoch 1 / 5 ========\n",
            "Training...\n"
          ]
        },
        {
          "name": "stderr",
          "output_type": "stream",
          "text": [
            "The attention mask and the pad token id were not set. As a consequence, you may observe unexpected behavior. Please pass your input's `attention_mask` to obtain reliable results.\n",
            "Setting `pad_token_id` to `eos_token_id`:50256 for open-end generation.\n"
          ]
        },
        {
          "name": "stdout",
          "output_type": "stream",
          "text": [
            "  Batch   100  of  2,250. Loss: 0.09373236447572708.   Elapsed: 0:00:48.\n",
            "0: You are out of your minds.\n",
            "1: We find our Lord's soul so malign and dangerous.\n",
            "2: And thou hadst but to bid a good deed to thee: yet that, if not so, should\n"
          ]
        },
        {
          "name": "stderr",
          "output_type": "stream",
          "text": [
            "The attention mask and the pad token id were not set. As a consequence, you may observe unexpected behavior. Please pass your input's `attention_mask` to obtain reliable results.\n",
            "Setting `pad_token_id` to `eos_token_id`:50256 for open-end generation.\n"
          ]
        },
        {
          "name": "stdout",
          "output_type": "stream",
          "text": [
            "  Batch   200  of  2,250. Loss: 0.07175108045339584.   Elapsed: 0:01:37.\n",
            "0: I am a widow.\n",
            "1: Hath a father from thee; and he is the man I have saved\n",
            "2: Were no men? If not, do you\n"
          ]
        },
        {
          "name": "stderr",
          "output_type": "stream",
          "text": [
            "The attention mask and the pad token id were not set. As a consequence, you may observe unexpected behavior. Please pass your input's `attention_mask` to obtain reliable results.\n",
            "Setting `pad_token_id` to `eos_token_id`:50256 for open-end generation.\n"
          ]
        },
        {
          "name": "stdout",
          "output_type": "stream",
          "text": [
            "  Batch   300  of  2,250. Loss: 0.10796131193637848.   Elapsed: 0:02:26.\n",
            "0: Thou didst in my nature, how he was set\n",
            "1: But he can not be killed: so\n",
            "2: He who might be killed cannot be prevented, but\n"
          ]
        },
        {
          "name": "stderr",
          "output_type": "stream",
          "text": [
            "The attention mask and the pad token id were not set. As a consequence, you may observe unexpected behavior. Please pass your input's `attention_mask` to obtain reliable results.\n",
            "Setting `pad_token_id` to `eos_token_id`:50256 for open-end generation.\n"
          ]
        },
        {
          "name": "stdout",
          "output_type": "stream",
          "text": [
            "  Batch   400  of  2,250. Loss: 0.06034395098686218.   Elapsed: 0:03:15.\n",
            "0: But the king's death to me will be his\n",
            "1: The state is anvil'd: my own son is in distress,\n",
            "2: And being then again born, he must have prevented this.\n"
          ]
        },
        {
          "name": "stderr",
          "output_type": "stream",
          "text": [
            "The attention mask and the pad token id were not set. As a consequence, you may observe unexpected behavior. Please pass your input's `attention_mask` to obtain reliable results.\n",
            "Setting `pad_token_id` to `eos_token_id`:50256 for open-end generation.\n"
          ]
        },
        {
          "name": "stdout",
          "output_type": "stream",
          "text": [
            "  Batch   500  of  2,250. Loss: 0.06765918433666229.   Elapsed: 0:04:06.\n",
            "0: I'll give you any word but I will not beg from you.\n",
            "1: More in the name of my wife's son's life;\n",
            "2: He lives and dies for his children,\n"
          ]
        },
        {
          "name": "stderr",
          "output_type": "stream",
          "text": [
            "The attention mask and the pad token id were not set. As a consequence, you may observe unexpected behavior. Please pass your input's `attention_mask` to obtain reliable results.\n",
            "Setting `pad_token_id` to `eos_token_id`:50256 for open-end generation.\n"
          ]
        },
        {
          "name": "stdout",
          "output_type": "stream",
          "text": [
            "  Batch   600  of  2,250. Loss: 0.07716090977191925.   Elapsed: 0:04:57.\n",
            "0: If you must be quiet, I can not\n",
            "1: Most are unshapen: they do not fight, but\n",
            "2: The power I have would take you in my arms; you may see\n"
          ]
        },
        {
          "name": "stderr",
          "output_type": "stream",
          "text": [
            "The attention mask and the pad token id were not set. As a consequence, you may observe unexpected behavior. Please pass your input's `attention_mask` to obtain reliable results.\n",
            "Setting `pad_token_id` to `eos_token_id`:50256 for open-end generation.\n"
          ]
        },
        {
          "name": "stdout",
          "output_type": "stream",
          "text": [
            "  Batch   700  of  2,250. Loss: 0.0746777281165123.   Elapsed: 0:05:49.\n",
            "0: Which had most I do and it was not me;\n",
            "1: That thy good deeds are such as you know them not,\n",
            "2: To give thy husband to our hands? If thou dost:\n"
          ]
        },
        {
          "name": "stderr",
          "output_type": "stream",
          "text": [
            "The attention mask and the pad token id were not set. As a consequence, you may observe unexpected behavior. Please pass your input's `attention_mask` to obtain reliable results.\n",
            "Setting `pad_token_id` to `eos_token_id`:50256 for open-end generation.\n"
          ]
        },
        {
          "name": "stdout",
          "output_type": "stream",
          "text": [
            "  Batch   800  of  2,250. Loss: 0.06960932910442352.   Elapsed: 0:06:41.\n",
            "0: When there heed the house,\n",
            "1: A widow was born. 'I have sent.'\n",
            "2: When thou withers away, have let me know of it:\n"
          ]
        },
        {
          "name": "stderr",
          "output_type": "stream",
          "text": [
            "The attention mask and the pad token id were not set. As a consequence, you may observe unexpected behavior. Please pass your input's `attention_mask` to obtain reliable results.\n",
            "Setting `pad_token_id` to `eos_token_id`:50256 for open-end generation.\n"
          ]
        },
        {
          "name": "stdout",
          "output_type": "stream",
          "text": [
            "  Batch   900  of  2,250. Loss: 0.08264819532632828.   Elapsed: 0:07:33.\n",
            "0: And then, my good madam: if that's how I love you;\n",
            "1: And for our general life. O. 'Long enough now,'\n",
            "2: Thou madst thou; and, thou art a liar!\n"
          ]
        },
        {
          "name": "stderr",
          "output_type": "stream",
          "text": [
            "The attention mask and the pad token id were not set. As a consequence, you may observe unexpected behavior. Please pass your input's `attention_mask` to obtain reliable results.\n",
            "Setting `pad_token_id` to `eos_token_id`:50256 for open-end generation.\n"
          ]
        },
        {
          "name": "stdout",
          "output_type": "stream",
          "text": [
            "  Batch 1,000  of  2,250. Loss: 0.07677791267633438.   Elapsed: 0:08:25.\n",
            "0: And to a great and more grievous city,\n",
            "1: From the Tower to the Tower, for they are\n",
            "2: A goodly company for us to see, the king:\n"
          ]
        },
        {
          "name": "stderr",
          "output_type": "stream",
          "text": [
            "The attention mask and the pad token id were not set. As a consequence, you may observe unexpected behavior. Please pass your input's `attention_mask` to obtain reliable results.\n",
            "Setting `pad_token_id` to `eos_token_id`:50256 for open-end generation.\n"
          ]
        },
        {
          "name": "stdout",
          "output_type": "stream",
          "text": [
            "  Batch 1,100  of  2,250. Loss: 0.06956779211759567.   Elapsed: 0:09:16.\n",
            "0: Nor yet was he that is the prince, when he,\n",
            "1: In these wars and wars as soon as thou art ready\n",
            "2: Let's go on: for he's unshatter'd,\n"
          ]
        },
        {
          "name": "stderr",
          "output_type": "stream",
          "text": [
            "The attention mask and the pad token id were not set. As a consequence, you may observe unexpected behavior. Please pass your input's `attention_mask` to obtain reliable results.\n",
            "Setting `pad_token_id` to `eos_token_id`:50256 for open-end generation.\n"
          ]
        },
        {
          "name": "stdout",
          "output_type": "stream",
          "text": [
            "  Batch 1,200  of  2,250. Loss: 0.049531009048223495.   Elapsed: 0:10:07.\n",
            "0: My lord, the mayor, he has never\n",
            "1: You have been as good as your father,\n",
            "2: And I'll say 'Good Lord Hastings, the cause is 'twere\n"
          ]
        },
        {
          "name": "stderr",
          "output_type": "stream",
          "text": [
            "The attention mask and the pad token id were not set. As a consequence, you may observe unexpected behavior. Please pass your input's `attention_mask` to obtain reliable results.\n",
            "Setting `pad_token_id` to `eos_token_id`:50256 for open-end generation.\n"
          ]
        },
        {
          "name": "stdout",
          "output_type": "stream",
          "text": [
            "  Batch 1,300  of  2,250. Loss: 0.07502692937850952.   Elapsed: 0:10:59.\n",
            "0: On all the way; O, let me pray you, I'll not be too quick\n",
            "1: That, as much as I have\n",
            "2: Withal, to seek but at, that you cannot. When\n"
          ]
        },
        {
          "name": "stderr",
          "output_type": "stream",
          "text": [
            "The attention mask and the pad token id were not set. As a consequence, you may observe unexpected behavior. Please pass your input's `attention_mask` to obtain reliable results.\n",
            "Setting `pad_token_id` to `eos_token_id`:50256 for open-end generation.\n"
          ]
        },
        {
          "name": "stdout",
          "output_type": "stream",
          "text": [
            "  Batch 1,400  of  2,250. Loss: 0.06242255121469498.   Elapsed: 0:11:50.\n",
            "0: A slave, that so I may prove to your country,\n",
            "1: And all your dealings with us, and your hate with us,\n",
            "2: You cannot tell me whether your mother\n"
          ]
        },
        {
          "name": "stderr",
          "output_type": "stream",
          "text": [
            "The attention mask and the pad token id were not set. As a consequence, you may observe unexpected behavior. Please pass your input's `attention_mask` to obtain reliable results.\n",
            "Setting `pad_token_id` to `eos_token_id`:50256 for open-end generation.\n"
          ]
        },
        {
          "name": "stdout",
          "output_type": "stream",
          "text": [
            "  Batch 1,500  of  2,250. Loss: 0.07668064534664154.   Elapsed: 0:12:41.\n",
            "0: The nobles and citizens of the city;\n",
            "1: As we are charged for all our enemies' sake,\n",
            "2: As it is time to see it, my good lord; I shall tell\n"
          ]
        },
        {
          "name": "stderr",
          "output_type": "stream",
          "text": [
            "The attention mask and the pad token id were not set. As a consequence, you may observe unexpected behavior. Please pass your input's `attention_mask` to obtain reliable results.\n",
            "Setting `pad_token_id` to `eos_token_id`:50256 for open-end generation.\n"
          ]
        },
        {
          "name": "stdout",
          "output_type": "stream",
          "text": [
            "  Batch 1,600  of  2,250. Loss: 0.08473613113164902.   Elapsed: 0:13:33.\n",
            "0: And 'zounds! 'zounds! 'zounds!\n",
            "1: And that he may not be all these times?\n",
            "2: What have thou not hear thou. Go see thy lord.\n"
          ]
        },
        {
          "name": "stderr",
          "output_type": "stream",
          "text": [
            "The attention mask and the pad token id were not set. As a consequence, you may observe unexpected behavior. Please pass your input's `attention_mask` to obtain reliable results.\n",
            "Setting `pad_token_id` to `eos_token_id`:50256 for open-end generation.\n"
          ]
        },
        {
          "name": "stdout",
          "output_type": "stream",
          "text": [
            "  Batch 1,700  of  2,250. Loss: 0.06727974861860275.   Elapsed: 0:14:24.\n",
            "0: I was but a boy; I would not play the one\n",
            "1: O, and his royal presence, I fear,\n",
            "2: Thou must be put to death for all,\n"
          ]
        },
        {
          "name": "stderr",
          "output_type": "stream",
          "text": [
            "The attention mask and the pad token id were not set. As a consequence, you may observe unexpected behavior. Please pass your input's `attention_mask` to obtain reliable results.\n",
            "Setting `pad_token_id` to `eos_token_id`:50256 for open-end generation.\n"
          ]
        },
        {
          "name": "stdout",
          "output_type": "stream",
          "text": [
            "  Batch 1,800  of  2,250. Loss: 0.08184967935085297.   Elapsed: 0:15:15.\n",
            "0: Than in such a time as for you come;\n",
            "1: Runes and gates have been used\n",
            "2: They should do well to the good of the people:\n"
          ]
        },
        {
          "name": "stderr",
          "output_type": "stream",
          "text": [
            "The attention mask and the pad token id were not set. As a consequence, you may observe unexpected behavior. Please pass your input's `attention_mask` to obtain reliable results.\n",
            "Setting `pad_token_id` to `eos_token_id`:50256 for open-end generation.\n"
          ]
        },
        {
          "name": "stdout",
          "output_type": "stream",
          "text": [
            "  Batch 1,900  of  2,250. Loss: 0.07440311461687088.   Elapsed: 0:16:07.\n",
            "0: As it is, he of the senate and patricians have;\n",
            "1: If he be the boar's enemy, what's he?\n",
            "2: Which that cannot be but by virtue\n"
          ]
        },
        {
          "name": "stderr",
          "output_type": "stream",
          "text": [
            "The attention mask and the pad token id were not set. As a consequence, you may observe unexpected behavior. Please pass your input's `attention_mask` to obtain reliable results.\n",
            "Setting `pad_token_id` to `eos_token_id`:50256 for open-end generation.\n"
          ]
        },
        {
          "name": "stdout",
          "output_type": "stream",
          "text": [
            "  Batch 2,000  of  2,250. Loss: 0.07086797058582306.   Elapsed: 0:16:59.\n",
            "0: Why, it is almost in time for the chamber.\n",
            "1: Were you so; but I am prepared,\n",
            "2: What are, to say the truth? There's noisome duke, he hath\n"
          ]
        },
        {
          "name": "stderr",
          "output_type": "stream",
          "text": [
            "The attention mask and the pad token id were not set. As a consequence, you may observe unexpected behavior. Please pass your input's `attention_mask` to obtain reliable results.\n",
            "Setting `pad_token_id` to `eos_token_id`:50256 for open-end generation.\n"
          ]
        },
        {
          "name": "stdout",
          "output_type": "stream",
          "text": [
            "  Batch 2,100  of  2,250. Loss: 0.07516961544752121.   Elapsed: 0:17:52.\n",
            "0: I think you'll hear of me. This boar is almost an officer's son.\n",
            "1: To see me; but what I may be content,\n",
            "2: They cry you 'Raveer.' 'Sid.' 'Whose 'Whose.' 'Lark.' 'M.' '\n"
          ]
        },
        {
          "name": "stderr",
          "output_type": "stream",
          "text": [
            "The attention mask and the pad token id were not set. As a consequence, you may observe unexpected behavior. Please pass your input's `attention_mask` to obtain reliable results.\n",
            "Setting `pad_token_id` to `eos_token_id`:50256 for open-end generation.\n"
          ]
        },
        {
          "name": "stdout",
          "output_type": "stream",
          "text": [
            "  Batch 2,200  of  2,250. Loss: 0.05811566114425659.   Elapsed: 0:18:44.\n",
            "0: When he had gone. The most advanced he is,\n",
            "1: A little fear, to make it more fair and easy\n",
            "2: Hast a warrant for your son, who is a good thing\n",
            "\n",
            "  Average training loss: 0.08\n",
            "  Training epoch took: 0:19:10\n",
            "\n",
            "Running Validation...\n",
            "  Validation Loss: 0.07\n",
            "  Validation took: 0:00:39\n",
            "\n",
            "======== Epoch 2 / 5 ========\n",
            "Training...\n"
          ]
        },
        {
          "name": "stderr",
          "output_type": "stream",
          "text": [
            "The attention mask and the pad token id were not set. As a consequence, you may observe unexpected behavior. Please pass your input's `attention_mask` to obtain reliable results.\n",
            "Setting `pad_token_id` to `eos_token_id`:50256 for open-end generation.\n"
          ]
        },
        {
          "name": "stdout",
          "output_type": "stream",
          "text": [
            "  Batch   100  of  2,250. Loss: 0.04431496933102608.   Elapsed: 0:00:53.\n",
            "0: Which now you could never have done. I think I'd have been\n",
            "1: He never had this high thing so as much as what he show'd.\n",
            "2: To me I do it secretly. When I think, I tell myself,\n"
          ]
        },
        {
          "name": "stderr",
          "output_type": "stream",
          "text": [
            "The attention mask and the pad token id were not set. As a consequence, you may observe unexpected behavior. Please pass your input's `attention_mask` to obtain reliable results.\n",
            "Setting `pad_token_id` to `eos_token_id`:50256 for open-end generation.\n"
          ]
        },
        {
          "name": "stdout",
          "output_type": "stream",
          "text": [
            "  Batch   200  of  2,250. Loss: 0.04304042458534241.   Elapsed: 0:01:44.\n",
            "0: Thinking, when he was once perforce sworn\n",
            "1: Held me in chase, my lord; a fearful deed.\n",
            "2: To him that has sent us to Rome, we,\n"
          ]
        },
        {
          "name": "stderr",
          "output_type": "stream",
          "text": [
            "The attention mask and the pad token id were not set. As a consequence, you may observe unexpected behavior. Please pass your input's `attention_mask` to obtain reliable results.\n",
            "Setting `pad_token_id` to `eos_token_id`:50256 for open-end generation.\n"
          ]
        },
        {
          "name": "stdout",
          "output_type": "stream",
          "text": [
            "  Batch   300  of  2,250. Loss: 0.05632239207625389.   Elapsed: 0:02:35.\n",
            "0: O, if he give me, go in, thou shall bear a head for ten thousand of throats\n",
            "1: Let him deny my purpose, and, if he,\n",
            "2: No, at a word for 'em. I would never.\n"
          ]
        },
        {
          "name": "stderr",
          "output_type": "stream",
          "text": [
            "The attention mask and the pad token id were not set. As a consequence, you may observe unexpected behavior. Please pass your input's `attention_mask` to obtain reliable results.\n",
            "Setting `pad_token_id` to `eos_token_id`:50256 for open-end generation.\n"
          ]
        },
        {
          "name": "stdout",
          "output_type": "stream",
          "text": [
            "  Batch   400  of  2,250. Loss: 0.04145130515098572.   Elapsed: 0:03:27.\n",
            "0: As the duke of Gloucester, my uncle York,\n",
            "1: The nobles were against their dastard designs,\n",
            "2: He, and all his brethren, and his brother\n"
          ]
        },
        {
          "name": "stderr",
          "output_type": "stream",
          "text": [
            "The attention mask and the pad token id were not set. As a consequence, you may observe unexpected behavior. Please pass your input's `attention_mask` to obtain reliable results.\n",
            "Setting `pad_token_id` to `eos_token_id`:50256 for open-end generation.\n"
          ]
        },
        {
          "name": "stdout",
          "output_type": "stream",
          "text": [
            "  Batch   500  of  2,250. Loss: 0.05495060607790947.   Elapsed: 0:04:18.\n",
            "0: What do you speak? is your name Menenius?\n",
            "1: The mayor of England, a fellow-tribune\n",
            "2: But have done what thou hast done?\n"
          ]
        },
        {
          "name": "stderr",
          "output_type": "stream",
          "text": [
            "The attention mask and the pad token id were not set. As a consequence, you may observe unexpected behavior. Please pass your input's `attention_mask` to obtain reliable results.\n",
            "Setting `pad_token_id` to `eos_token_id`:50256 for open-end generation.\n"
          ]
        },
        {
          "name": "stdout",
          "output_type": "stream",
          "text": [
            "  Batch   600  of  2,250. Loss: 0.07092662900686264.   Elapsed: 0:05:09.\n",
            "0: To make him do so now.\n",
            "1: What you are, brother and friends, our friends:\n",
            "2: I'd rather had my life on a soldier's head,\n"
          ]
        },
        {
          "name": "stderr",
          "output_type": "stream",
          "text": [
            "The attention mask and the pad token id were not set. As a consequence, you may observe unexpected behavior. Please pass your input's `attention_mask` to obtain reliable results.\n",
            "Setting `pad_token_id` to `eos_token_id`:50256 for open-end generation.\n"
          ]
        },
        {
          "name": "stdout",
          "output_type": "stream",
          "text": [
            "  Batch   700  of  2,250. Loss: 0.05790674313902855.   Elapsed: 0:06:01.\n",
            "0: That could crush the Volsces; and I will no further\n",
            "1: But by many a word didst thou speak?\n",
            "2: No doubt; I cannot reason in the very absence.\n"
          ]
        },
        {
          "name": "stderr",
          "output_type": "stream",
          "text": [
            "The attention mask and the pad token id were not set. As a consequence, you may observe unexpected behavior. Please pass your input's `attention_mask` to obtain reliable results.\n",
            "Setting `pad_token_id` to `eos_token_id`:50256 for open-end generation.\n"
          ]
        },
        {
          "name": "stdout",
          "output_type": "stream",
          "text": [
            "  Batch   800  of  2,250. Loss: 0.07012048363685608.   Elapsed: 0:06:52.\n",
            "0: Marry, why, so? he killed me;\n",
            "1: And, as I say, do not have me leave to take\n",
            "2: The Volsces that are ruled by Aufidius:--and are ruled\n"
          ]
        },
        {
          "name": "stderr",
          "output_type": "stream",
          "text": [
            "The attention mask and the pad token id were not set. As a consequence, you may observe unexpected behavior. Please pass your input's `attention_mask` to obtain reliable results.\n",
            "Setting `pad_token_id` to `eos_token_id`:50256 for open-end generation.\n"
          ]
        },
        {
          "name": "stdout",
          "output_type": "stream",
          "text": [
            "  Batch   900  of  2,250. Loss: 0.07108175754547119.   Elapsed: 0:07:44.\n",
            "0: Have I been as we'll prove friends, I would:\n",
            "1: But, they, and us, have all our thanks:\n",
            "2: Which you have in the presence o' the king.\n"
          ]
        },
        {
          "name": "stderr",
          "output_type": "stream",
          "text": [
            "The attention mask and the pad token id were not set. As a consequence, you may observe unexpected behavior. Please pass your input's `attention_mask` to obtain reliable results.\n",
            "Setting `pad_token_id` to `eos_token_id`:50256 for open-end generation.\n"
          ]
        },
        {
          "name": "stdout",
          "output_type": "stream",
          "text": [
            "  Batch 1,000  of  2,250. Loss: 0.05749174952507019.   Elapsed: 0:08:35.\n",
            "0: To stop my mother and England's king.\n",
            "1: He will be sworn between a cudgel and a cudgel,\n",
            "2: If they do not deserve our voices, then they\n"
          ]
        },
        {
          "name": "stderr",
          "output_type": "stream",
          "text": [
            "The attention mask and the pad token id were not set. As a consequence, you may observe unexpected behavior. Please pass your input's `attention_mask` to obtain reliable results.\n",
            "Setting `pad_token_id` to `eos_token_id`:50256 for open-end generation.\n"
          ]
        },
        {
          "name": "stdout",
          "output_type": "stream",
          "text": [
            "  Batch 1,100  of  2,250. Loss: 0.0625932365655899.   Elapsed: 0:09:26.\n",
            "0: To-morrow--I must away from thence;\n",
            "1: If you should have been so hard-dispersing.\n",
            "2: My dream is lengthen'd to an end;\n"
          ]
        },
        {
          "name": "stderr",
          "output_type": "stream",
          "text": [
            "The attention mask and the pad token id were not set. As a consequence, you may observe unexpected behavior. Please pass your input's `attention_mask` to obtain reliable results.\n",
            "Setting `pad_token_id` to `eos_token_id`:50256 for open-end generation.\n"
          ]
        },
        {
          "name": "stdout",
          "output_type": "stream",
          "text": [
            "  Batch 1,200  of  2,250. Loss: 0.06757303327322006.   Elapsed: 0:10:18.\n",
            "0: He is grown not to a full-out of his limbs,\n",
            "1: And, good my lord, you stand on me:\n",
            "2: Was ever woman in Christendom\n"
          ]
        },
        {
          "name": "stderr",
          "output_type": "stream",
          "text": [
            "The attention mask and the pad token id were not set. As a consequence, you may observe unexpected behavior. Please pass your input's `attention_mask` to obtain reliable results.\n",
            "Setting `pad_token_id` to `eos_token_id`:50256 for open-end generation.\n"
          ]
        },
        {
          "name": "stdout",
          "output_type": "stream",
          "text": [
            "  Batch 1,300  of  2,250. Loss: 0.06020773574709892.   Elapsed: 0:11:09.\n",
            "0: With all this while your party\n",
            "1: To make all his fair limbs work\n",
            "2: The same time our fellows are at liberty.\n"
          ]
        },
        {
          "name": "stderr",
          "output_type": "stream",
          "text": [
            "The attention mask and the pad token id were not set. As a consequence, you may observe unexpected behavior. Please pass your input's `attention_mask` to obtain reliable results.\n",
            "Setting `pad_token_id` to `eos_token_id`:50256 for open-end generation.\n"
          ]
        },
        {
          "name": "stdout",
          "output_type": "stream",
          "text": [
            "  Batch 1,400  of  2,250. Loss: 0.05084012821316719.   Elapsed: 0:12:00.\n",
            "0: 'Tis time to come; but, in this good request,\n",
            "1: A bribe-out of the people? then, if you'll come,\n",
            "2: 'Tis almost all the more dangerous\n"
          ]
        },
        {
          "name": "stderr",
          "output_type": "stream",
          "text": [
            "The attention mask and the pad token id were not set. As a consequence, you may observe unexpected behavior. Please pass your input's `attention_mask` to obtain reliable results.\n",
            "Setting `pad_token_id` to `eos_token_id`:50256 for open-end generation.\n"
          ]
        },
        {
          "name": "stdout",
          "output_type": "stream",
          "text": [
            "  Batch 1,500  of  2,250. Loss: 0.058352358639240265.   Elapsed: 0:12:51.\n",
            "0: Than in his own person. Therefore pardon his son.\n",
            "1: What do you think, brother? what's to be?\n",
            "2: And set a cotch of your high deserts:\n"
          ]
        },
        {
          "name": "stderr",
          "output_type": "stream",
          "text": [
            "The attention mask and the pad token id were not set. As a consequence, you may observe unexpected behavior. Please pass your input's `attention_mask` to obtain reliable results.\n",
            "Setting `pad_token_id` to `eos_token_id`:50256 for open-end generation.\n"
          ]
        },
        {
          "name": "stdout",
          "output_type": "stream",
          "text": [
            "  Batch 1,600  of  2,250. Loss: 0.06373979151248932.   Elapsed: 0:13:43.\n",
            "0: How well are we, sir? 'Tis no more at home now:\n",
            "1: You are all but safe; but there come the king.\n",
            "2: If they should shake off the debt which they lent us,\n"
          ]
        },
        {
          "name": "stderr",
          "output_type": "stream",
          "text": [
            "The attention mask and the pad token id were not set. As a consequence, you may observe unexpected behavior. Please pass your input's `attention_mask` to obtain reliable results.\n",
            "Setting `pad_token_id` to `eos_token_id`:50256 for open-end generation.\n"
          ]
        },
        {
          "name": "stdout",
          "output_type": "stream",
          "text": [
            "  Batch 1,700  of  2,250. Loss: 0.050359055399894714.   Elapsed: 0:14:34.\n",
            "0: Than in the coldest you can imagine\n",
            "1: A very fair cousin, sir.\n",
            "2: With the same authority, but by the means.\n"
          ]
        },
        {
          "name": "stderr",
          "output_type": "stream",
          "text": [
            "The attention mask and the pad token id were not set. As a consequence, you may observe unexpected behavior. Please pass your input's `attention_mask` to obtain reliable results.\n",
            "Setting `pad_token_id` to `eos_token_id`:50256 for open-end generation.\n"
          ]
        },
        {
          "name": "stdout",
          "output_type": "stream",
          "text": [
            "  Batch 1,800  of  2,250. Loss: 0.05410483106970787.   Elapsed: 0:15:25.\n",
            "0: He knows nothing, is not content for the people,\n",
            "1: I know you you, and have deserved your hate,\n",
            "2: In that, as I live, I hope he'll not stay;\n"
          ]
        },
        {
          "name": "stderr",
          "output_type": "stream",
          "text": [
            "The attention mask and the pad token id were not set. As a consequence, you may observe unexpected behavior. Please pass your input's `attention_mask` to obtain reliable results.\n",
            "Setting `pad_token_id` to `eos_token_id`:50256 for open-end generation.\n"
          ]
        },
        {
          "name": "stdout",
          "output_type": "stream",
          "text": [
            "  Batch 1,900  of  2,250. Loss: 0.050967149436473846.   Elapsed: 0:16:16.\n",
            "0: Or that my sword should fright my heart,\n",
            "1: And, the nobles dally before her,\n",
            "2: In your person, when I was on guard:\n"
          ]
        },
        {
          "name": "stderr",
          "output_type": "stream",
          "text": [
            "The attention mask and the pad token id were not set. As a consequence, you may observe unexpected behavior. Please pass your input's `attention_mask` to obtain reliable results.\n",
            "Setting `pad_token_id` to `eos_token_id`:50256 for open-end generation.\n"
          ]
        },
        {
          "name": "stdout",
          "output_type": "stream",
          "text": [
            "  Batch 2,000  of  2,250. Loss: 0.05400988459587097.   Elapsed: 0:17:07.\n",
            "0: But as I did have been made your enemy by\n",
            "1: My noble cousin Buckingham had I need of;\n",
            "2: Or none could cure their decay byOur general!\n"
          ]
        },
        {
          "name": "stderr",
          "output_type": "stream",
          "text": [
            "The attention mask and the pad token id were not set. As a consequence, you may observe unexpected behavior. Please pass your input's `attention_mask` to obtain reliable results.\n",
            "Setting `pad_token_id` to `eos_token_id`:50256 for open-end generation.\n"
          ]
        },
        {
          "name": "stdout",
          "output_type": "stream",
          "text": [
            "  Batch 2,100  of  2,250. Loss: 0.0596691332757473.   Elapsed: 0:17:58.\n",
            "0: The man is well meted; he's well meted:\n",
            "1: As we had rather give: let us be done\n",
            "2: Your voices seem to be less virtuous than yours,\n"
          ]
        },
        {
          "name": "stderr",
          "output_type": "stream",
          "text": [
            "The attention mask and the pad token id were not set. As a consequence, you may observe unexpected behavior. Please pass your input's `attention_mask` to obtain reliable results.\n",
            "Setting `pad_token_id` to `eos_token_id`:50256 for open-end generation.\n"
          ]
        },
        {
          "name": "stdout",
          "output_type": "stream",
          "text": [
            "  Batch 2,200  of  2,250. Loss: 0.06094884127378464.   Elapsed: 0:18:49.\n",
            "0: And when we will see, we will not need to put it.\n",
            "1: The great power and great power, the great power--\n",
            "2: When I shall have struck; it is not that easy,\n",
            "\n",
            "  Average training loss: 0.06\n",
            "  Training epoch took: 0:19:15\n",
            "\n",
            "Running Validation...\n",
            "  Validation Loss: 0.08\n",
            "  Validation took: 0:00:39\n",
            "\n",
            "======== Epoch 3 / 5 ========\n",
            "Training...\n"
          ]
        },
        {
          "name": "stderr",
          "output_type": "stream",
          "text": [
            "The attention mask and the pad token id were not set. As a consequence, you may observe unexpected behavior. Please pass your input's `attention_mask` to obtain reliable results.\n",
            "Setting `pad_token_id` to `eos_token_id`:50256 for open-end generation.\n"
          ]
        },
        {
          "name": "stdout",
          "output_type": "stream",
          "text": [
            "  Batch   100  of  2,250. Loss: 0.03505721315741539.   Elapsed: 0:00:51.\n",
            "0: But I'll turn her in her extremest extremity,\n",
            "1: And bid them all away. My lord, I bid him away.\n",
            "2: Let me have cushions by you. Fare you well, and give me leave;\n"
          ]
        },
        {
          "name": "stderr",
          "output_type": "stream",
          "text": [
            "The attention mask and the pad token id were not set. As a consequence, you may observe unexpected behavior. Please pass your input's `attention_mask` to obtain reliable results.\n",
            "Setting `pad_token_id` to `eos_token_id`:50256 for open-end generation.\n"
          ]
        },
        {
          "name": "stdout",
          "output_type": "stream",
          "text": [
            "  Batch   200  of  2,250. Loss: 0.03014567494392395.   Elapsed: 0:01:42.\n",
            "0: More direful sentence: ere the king\n",
            "1: Good morrow, Catesby; you voices have kept your information in your\n",
            "2: Howbeit, I think; and I do have some cause to think it.\n"
          ]
        },
        {
          "name": "stderr",
          "output_type": "stream",
          "text": [
            "The attention mask and the pad token id were not set. As a consequence, you may observe unexpected behavior. Please pass your input's `attention_mask` to obtain reliable results.\n",
            "Setting `pad_token_id` to `eos_token_id`:50256 for open-end generation.\n"
          ]
        },
        {
          "name": "stdout",
          "output_type": "stream",
          "text": [
            "  Batch   300  of  2,250. Loss: 0.05169358104467392.   Elapsed: 0:02:34.\n",
            "0: My pretty cousins, have we laid in the field?\n",
            "1: Hark what noise they have! why noise! they!\n",
            "2: I'll show some new tricks which you teach me how to flatter\n"
          ]
        },
        {
          "name": "stderr",
          "output_type": "stream",
          "text": [
            "The attention mask and the pad token id were not set. As a consequence, you may observe unexpected behavior. Please pass your input's `attention_mask` to obtain reliable results.\n",
            "Setting `pad_token_id` to `eos_token_id`:50256 for open-end generation.\n"
          ]
        },
        {
          "name": "stdout",
          "output_type": "stream",
          "text": [
            "  Batch   400  of  2,250. Loss: 0.034950509667396545.   Elapsed: 0:03:25.\n",
            "0: That seem less virtuous than those\n",
            "1: And make it brief. First, if I were\n",
            "2: Thy beauty hath, and made them blind with weeping.\n"
          ]
        },
        {
          "name": "stderr",
          "output_type": "stream",
          "text": [
            "The attention mask and the pad token id were not set. As a consequence, you may observe unexpected behavior. Please pass your input's `attention_mask` to obtain reliable results.\n",
            "Setting `pad_token_id` to `eos_token_id`:50256 for open-end generation.\n"
          ]
        },
        {
          "name": "stdout",
          "output_type": "stream",
          "text": [
            "  Batch   500  of  2,250. Loss: 0.038618218153715134.   Elapsed: 0:04:16.\n",
            "0: I shall be as rash. Yet do I give it gentle?\n",
            "1: It is thought of every one of us to be\n",
            "2: He that bereft thee, that loves thee so.\n"
          ]
        },
        {
          "name": "stderr",
          "output_type": "stream",
          "text": [
            "The attention mask and the pad token id were not set. As a consequence, you may observe unexpected behavior. Please pass your input's `attention_mask` to obtain reliable results.\n",
            "Setting `pad_token_id` to `eos_token_id`:50256 for open-end generation.\n"
          ]
        },
        {
          "name": "stdout",
          "output_type": "stream",
          "text": [
            "  Batch   600  of  2,250. Loss: 0.038790263235569.   Elapsed: 0:05:07.\n",
            "0: If you should not suffer these tedious days,\n",
            "1: The manner and purpose of his treason;--\n",
            "2: Whose repetition shall be dogg'd with curses.\n"
          ]
        },
        {
          "name": "stderr",
          "output_type": "stream",
          "text": [
            "The attention mask and the pad token id were not set. As a consequence, you may observe unexpected behavior. Please pass your input's `attention_mask` to obtain reliable results.\n",
            "Setting `pad_token_id` to `eos_token_id`:50256 for open-end generation.\n"
          ]
        },
        {
          "name": "stdout",
          "output_type": "stream",
          "text": [
            "  Batch   700  of  2,250. Loss: 0.04157128930091858.   Elapsed: 0:05:58.\n",
            "0: The best of us, that are not worth predecessors,\n",
            "1: And make my misery serve no further.\n",
            "2: If they be senators: and they have senators,\n"
          ]
        },
        {
          "name": "stderr",
          "output_type": "stream",
          "text": [
            "The attention mask and the pad token id were not set. As a consequence, you may observe unexpected behavior. Please pass your input's `attention_mask` to obtain reliable results.\n",
            "Setting `pad_token_id` to `eos_token_id`:50256 for open-end generation.\n"
          ]
        },
        {
          "name": "stdout",
          "output_type": "stream",
          "text": [
            "  Batch   800  of  2,250. Loss: 0.03626686707139015.   Elapsed: 0:06:49.\n",
            "0: A noble memory-pot; now, princely Buckingham,\n",
            "1: When that we did call the nettle nettle but nettle nettle nettle,\n",
            "2: A knot you are damned devil! O bloody devil!\n"
          ]
        },
        {
          "name": "stderr",
          "output_type": "stream",
          "text": [
            "The attention mask and the pad token id were not set. As a consequence, you may observe unexpected behavior. Please pass your input's `attention_mask` to obtain reliable results.\n",
            "Setting `pad_token_id` to `eos_token_id`:50256 for open-end generation.\n"
          ]
        },
        {
          "name": "stdout",
          "output_type": "stream",
          "text": [
            "  Batch   900  of  2,250. Loss: 0.042136043310165405.   Elapsed: 0:07:40.\n",
            "0: What makes thy misery? it is as easy\n",
            "1: The kindred of the queen;\n",
            "2: A blessed and a joyful time of day!\n"
          ]
        },
        {
          "name": "stderr",
          "output_type": "stream",
          "text": [
            "The attention mask and the pad token id were not set. As a consequence, you may observe unexpected behavior. Please pass your input's `attention_mask` to obtain reliable results.\n",
            "Setting `pad_token_id` to `eos_token_id`:50256 for open-end generation.\n"
          ]
        },
        {
          "name": "stdout",
          "output_type": "stream",
          "text": [
            "  Batch 1,000  of  2,250. Loss: 0.06091562658548355.   Elapsed: 0:08:31.\n",
            "0: He's a parlous boy; go, go, I say, he is too shrewd.\n",
            "1: O, to give way the while some tormenting dream!\n",
            "2: And that the commoners, for whom we stand, but they\n"
          ]
        },
        {
          "name": "stderr",
          "output_type": "stream",
          "text": [
            "The attention mask and the pad token id were not set. As a consequence, you may observe unexpected behavior. Please pass your input's `attention_mask` to obtain reliable results.\n",
            "Setting `pad_token_id` to `eos_token_id`:50256 for open-end generation.\n"
          ]
        },
        {
          "name": "stdout",
          "output_type": "stream",
          "text": [
            "  Batch 1,100  of  2,250. Loss: 0.04698997363448143.   Elapsed: 0:09:23.\n",
            "0: Or let us stand to our authority,\n",
            "1: I am in your debt for your last exercise,\n",
            "2: As well as speak--it would have gall'd him\n"
          ]
        },
        {
          "name": "stderr",
          "output_type": "stream",
          "text": [
            "The attention mask and the pad token id were not set. As a consequence, you may observe unexpected behavior. Please pass your input's `attention_mask` to obtain reliable results.\n",
            "Setting `pad_token_id` to `eos_token_id`:50256 for open-end generation.\n"
          ]
        },
        {
          "name": "stdout",
          "output_type": "stream",
          "text": [
            "  Batch 1,200  of  2,250. Loss: 0.0428483709692955.   Elapsed: 0:10:14.\n",
            "0: Than my husband's answer to me: he replied\n",
            "1: But I will not have the hearts to do't,\n",
            "2: As much as in his outward actions shows itself in love\n"
          ]
        },
        {
          "name": "stderr",
          "output_type": "stream",
          "text": [
            "The attention mask and the pad token id were not set. As a consequence, you may observe unexpected behavior. Please pass your input's `attention_mask` to obtain reliable results.\n",
            "Setting `pad_token_id` to `eos_token_id`:50256 for open-end generation.\n"
          ]
        },
        {
          "name": "stdout",
          "output_type": "stream",
          "text": [
            "  Batch 1,300  of  2,250. Loss: 0.04581761732697487.   Elapsed: 0:11:05.\n",
            "0: That's as hard as thou would. Fix me, then repair.\n",
            "1: The commoners, not the nobility, hath bid the world good night:\n",
            "2: Away, my boy. I pray, I am gone.\n"
          ]
        },
        {
          "name": "stderr",
          "output_type": "stream",
          "text": [
            "The attention mask and the pad token id were not set. As a consequence, you may observe unexpected behavior. Please pass your input's `attention_mask` to obtain reliable results.\n",
            "Setting `pad_token_id` to `eos_token_id`:50256 for open-end generation.\n"
          ]
        },
        {
          "name": "stdout",
          "output_type": "stream",
          "text": [
            "  Batch 1,400  of  2,250. Loss: 0.03030409850180149.   Elapsed: 0:11:56.\n",
            "0: With no less honour to their wives and boys:\n",
            "1: To stop devoted charitable deeds? To stop devoted charitable deeds?\n",
            "2: You never stood upright in any cause,\n"
          ]
        },
        {
          "name": "stderr",
          "output_type": "stream",
          "text": [
            "The attention mask and the pad token id were not set. As a consequence, you may observe unexpected behavior. Please pass your input's `attention_mask` to obtain reliable results.\n",
            "Setting `pad_token_id` to `eos_token_id`:50256 for open-end generation.\n"
          ]
        },
        {
          "name": "stdout",
          "output_type": "stream",
          "text": [
            "  Batch 1,500  of  2,250. Loss: 0.04941365495324135.   Elapsed: 0:12:47.\n",
            "0: O, be it so, O, be it so. Assist.\n",
            "1: Be this they who brought thee to this world.\n",
            "2: That by his red colour hath forsook his cheeks;\n"
          ]
        },
        {
          "name": "stderr",
          "output_type": "stream",
          "text": [
            "The attention mask and the pad token id were not set. As a consequence, you may observe unexpected behavior. Please pass your input's `attention_mask` to obtain reliable results.\n",
            "Setting `pad_token_id` to `eos_token_id`:50256 for open-end generation.\n"
          ]
        },
        {
          "name": "stdout",
          "output_type": "stream",
          "text": [
            "  Batch 1,600  of  2,250. Loss: 0.04774826392531395.   Elapsed: 0:13:39.\n",
            "0: In this soothed not on it; and, in love and zeal,\n",
            "1: 'Tis not that we shall request any good,\n",
            "2: I would not have given my uncle's grace a flout:\n"
          ]
        },
        {
          "name": "stderr",
          "output_type": "stream",
          "text": [
            "The attention mask and the pad token id were not set. As a consequence, you may observe unexpected behavior. Please pass your input's `attention_mask` to obtain reliable results.\n",
            "Setting `pad_token_id` to `eos_token_id`:50256 for open-end generation.\n"
          ]
        },
        {
          "name": "stdout",
          "output_type": "stream",
          "text": [
            "  Batch 1,700  of  2,250. Loss: 0.04092288389801979.   Elapsed: 0:14:30.\n",
            "0: For the instalment of the noble duke\n",
            "1: That's not the way to lay the city flat;\n",
            "2: Which they have not yet tread on their hearts,\n"
          ]
        },
        {
          "name": "stderr",
          "output_type": "stream",
          "text": [
            "The attention mask and the pad token id were not set. As a consequence, you may observe unexpected behavior. Please pass your input's `attention_mask` to obtain reliable results.\n",
            "Setting `pad_token_id` to `eos_token_id`:50256 for open-end generation.\n"
          ]
        },
        {
          "name": "stdout",
          "output_type": "stream",
          "text": [
            "  Batch 1,800  of  2,250. Loss: 0.035239215940237045.   Elapsed: 0:15:21.\n",
            "0: I am the queen thereof; the honour'd gods give you joy;\n",
            "1: And now the dead bones of eagles\n",
            "2: In him and that shall be consul in the name\n"
          ]
        },
        {
          "name": "stderr",
          "output_type": "stream",
          "text": [
            "The attention mask and the pad token id were not set. As a consequence, you may observe unexpected behavior. Please pass your input's `attention_mask` to obtain reliable results.\n",
            "Setting `pad_token_id` to `eos_token_id`:50256 for open-end generation.\n"
          ]
        },
        {
          "name": "stdout",
          "output_type": "stream",
          "text": [
            "  Batch 1,900  of  2,250. Loss: 0.055747140198946.   Elapsed: 0:16:13.\n",
            "0: We'll have letters here; tell us what you say,\n",
            "1: O Margaret Margaret Margaret Margaret Margaret Margaret Margaret Margaret Margaret Margaret Margaret Margaret Margaret Margaret Margaret Margaret Margaret Margaret Margaret Margaret Margaret\n",
            "2: And will be revenged on him where he should be.\n"
          ]
        },
        {
          "name": "stderr",
          "output_type": "stream",
          "text": [
            "The attention mask and the pad token id were not set. As a consequence, you may observe unexpected behavior. Please pass your input's `attention_mask` to obtain reliable results.\n",
            "Setting `pad_token_id` to `eos_token_id`:50256 for open-end generation.\n"
          ]
        },
        {
          "name": "stdout",
          "output_type": "stream",
          "text": [
            "  Batch 2,000  of  2,250. Loss: 0.04183527082204819.   Elapsed: 0:17:04.\n",
            "0: I' the way of flattery further.\n",
            "1: My sovereign liege, I tell you what: if all the prince\n",
            "2: But, he that trusts to you cannot tell me more\n"
          ]
        },
        {
          "name": "stderr",
          "output_type": "stream",
          "text": [
            "The attention mask and the pad token id were not set. As a consequence, you may observe unexpected behavior. Please pass your input's `attention_mask` to obtain reliable results.\n",
            "Setting `pad_token_id` to `eos_token_id`:50256 for open-end generation.\n"
          ]
        },
        {
          "name": "stdout",
          "output_type": "stream",
          "text": [
            "  Batch 2,100  of  2,250. Loss: 0.04112638905644417.   Elapsed: 0:17:55.\n",
            "0: And I will be consul of that: you are\n",
            "1: Of his own royal self: what's your grace?\n",
            "2: A little of his worthy work perform'd;\n"
          ]
        },
        {
          "name": "stderr",
          "output_type": "stream",
          "text": [
            "The attention mask and the pad token id were not set. As a consequence, you may observe unexpected behavior. Please pass your input's `attention_mask` to obtain reliable results.\n",
            "Setting `pad_token_id` to `eos_token_id`:50256 for open-end generation.\n"
          ]
        },
        {
          "name": "stdout",
          "output_type": "stream",
          "text": [
            "  Batch 2,200  of  2,250. Loss: 0.06516402959823608.   Elapsed: 0:18:47.\n",
            "0: For in his country's name, let him know your name:\n",
            "1: When first I was a little peevish boy.\n",
            "2: That my young nobility did rise;\n",
            "\n",
            "  Average training loss: 0.04\n",
            "  Training epoch took: 0:19:12\n",
            "\n",
            "Running Validation...\n",
            "  Validation Loss: 0.08\n",
            "  Validation took: 0:00:39\n",
            "\n",
            "======== Epoch 4 / 5 ========\n",
            "Training...\n"
          ]
        },
        {
          "name": "stderr",
          "output_type": "stream",
          "text": [
            "The attention mask and the pad token id were not set. As a consequence, you may observe unexpected behavior. Please pass your input's `attention_mask` to obtain reliable results.\n",
            "Setting `pad_token_id` to `eos_token_id`:50256 for open-end generation.\n"
          ]
        },
        {
          "name": "stdout",
          "output_type": "stream",
          "text": [
            "  Batch   100  of  2,250. Loss: 0.023833440616726875.   Elapsed: 0:00:51.\n",
            "0: As if thyself's safety was a necessary\n",
            "1: To do a good day's work, you should do,\n",
            "2: His rougher accents for malicious sounds,\n"
          ]
        },
        {
          "name": "stderr",
          "output_type": "stream",
          "text": [
            "The attention mask and the pad token id were not set. As a consequence, you may observe unexpected behavior. Please pass your input's `attention_mask` to obtain reliable results.\n",
            "Setting `pad_token_id` to `eos_token_id`:50256 for open-end generation.\n"
          ]
        },
        {
          "name": "stdout",
          "output_type": "stream",
          "text": [
            "  Batch   200  of  2,250. Loss: 0.02021295763552189.   Elapsed: 0:01:42.\n",
            "0: Come, my lord, have you any courtesy show'd?\n",
            "1: And says that there is no more but peace is\n",
            "2: Come, come, come, we know not what to\n"
          ]
        },
        {
          "name": "stderr",
          "output_type": "stream",
          "text": [
            "The attention mask and the pad token id were not set. As a consequence, you may observe unexpected behavior. Please pass your input's `attention_mask` to obtain reliable results.\n",
            "Setting `pad_token_id` to `eos_token_id`:50256 for open-end generation.\n"
          ]
        },
        {
          "name": "stdout",
          "output_type": "stream",
          "text": [
            "  Batch   300  of  2,250. Loss: 0.023340871557593346.   Elapsed: 0:02:34.\n",
            "0: Or else it would have gall'd his surly nature,\n",
            "1: God grant we never may have need of you!\n",
            "2: But, by despairing them, you shouldst be\n"
          ]
        },
        {
          "name": "stderr",
          "output_type": "stream",
          "text": [
            "The attention mask and the pad token id were not set. As a consequence, you may observe unexpected behavior. Please pass your input's `attention_mask` to obtain reliable results.\n",
            "Setting `pad_token_id` to `eos_token_id`:50256 for open-end generation.\n"
          ]
        },
        {
          "name": "stdout",
          "output_type": "stream",
          "text": [
            "  Batch   400  of  2,250. Loss: 0.021875590085983276.   Elapsed: 0:03:25.\n",
            "0: What we will do, if we perceive\n",
            "1: O monstrous, monstrous! thou know'st the devil.\n",
            "2: To the Volsces! Coriolanus!\n"
          ]
        },
        {
          "name": "stderr",
          "output_type": "stream",
          "text": [
            "The attention mask and the pad token id were not set. As a consequence, you may observe unexpected behavior. Please pass your input's `attention_mask` to obtain reliable results.\n",
            "Setting `pad_token_id` to `eos_token_id`:50256 for open-end generation.\n"
          ]
        },
        {
          "name": "stdout",
          "output_type": "stream",
          "text": [
            "  Batch   500  of  2,250. Loss: 0.01737169921398163.   Elapsed: 0:04:16.\n",
            "0: That in these five years together I have lost--\n",
            "1: And what is he that is my husband?\n",
            "2: I pray you, uncle, give me this dagger.\n"
          ]
        },
        {
          "name": "stderr",
          "output_type": "stream",
          "text": [
            "The attention mask and the pad token id were not set. As a consequence, you may observe unexpected behavior. Please pass your input's `attention_mask` to obtain reliable results.\n",
            "Setting `pad_token_id` to `eos_token_id`:50256 for open-end generation.\n"
          ]
        },
        {
          "name": "stdout",
          "output_type": "stream",
          "text": [
            "  Batch   600  of  2,250. Loss: 0.022583957761526108.   Elapsed: 0:05:08.\n",
            "0: I'll turn yon fellow in his grave, and send him to the Tower.\n",
            "1: To the people; not by your own instruction,\n",
            "2: Bid me farewell, and smile. I pray you, come.\n"
          ]
        },
        {
          "name": "stderr",
          "output_type": "stream",
          "text": [
            "The attention mask and the pad token id were not set. As a consequence, you may observe unexpected behavior. Please pass your input's `attention_mask` to obtain reliable results.\n",
            "Setting `pad_token_id` to `eos_token_id`:50256 for open-end generation.\n"
          ]
        },
        {
          "name": "stdout",
          "output_type": "stream",
          "text": [
            "  Batch   700  of  2,250. Loss: 0.029895508661866188.   Elapsed: 0:05:59.\n",
            "0: Whilst Aufidius, Caius Marcius,\n",
            "1: Your stinking greasy in mine ears,\n",
            "2: You know me, Marcius, is not in the vein\n"
          ]
        },
        {
          "name": "stderr",
          "output_type": "stream",
          "text": [
            "The attention mask and the pad token id were not set. As a consequence, you may observe unexpected behavior. Please pass your input's `attention_mask` to obtain reliable results.\n",
            "Setting `pad_token_id` to `eos_token_id`:50256 for open-end generation.\n"
          ]
        },
        {
          "name": "stdout",
          "output_type": "stream",
          "text": [
            "  Batch   800  of  2,250. Loss: 0.023528089746832848.   Elapsed: 0:06:51.\n",
            "0: For this will out, and here I must not stay.\n",
            "1: But now two mirrors of his princely semblance\n",
            "2: And so I take it. I am one that, sir,\n"
          ]
        },
        {
          "name": "stderr",
          "output_type": "stream",
          "text": [
            "The attention mask and the pad token id were not set. As a consequence, you may observe unexpected behavior. Please pass your input's `attention_mask` to obtain reliable results.\n",
            "Setting `pad_token_id` to `eos_token_id`:50256 for open-end generation.\n"
          ]
        },
        {
          "name": "stdout",
          "output_type": "stream",
          "text": [
            "  Batch   900  of  2,250. Loss: 0.023435495793819427.   Elapsed: 0:07:42.\n",
            "0: We will see, sir, a thousand fearful wrecks;\n",
            "1: Who's in my stead: the waters in the sun\n",
            "2: As thou dost swallow'd it: with thy hand I seal thy true heart's love\n"
          ]
        },
        {
          "name": "stderr",
          "output_type": "stream",
          "text": [
            "The attention mask and the pad token id were not set. As a consequence, you may observe unexpected behavior. Please pass your input's `attention_mask` to obtain reliable results.\n",
            "Setting `pad_token_id` to `eos_token_id`:50256 for open-end generation.\n"
          ]
        },
        {
          "name": "stdout",
          "output_type": "stream",
          "text": [
            "  Batch 1,000  of  2,250. Loss: 0.02056540921330452.   Elapsed: 0:08:33.\n",
            "0: What you have seen him do and heard him speak,\n",
            "1: To banish a friend, to eject me hence,\n",
            "2: How doth he stand affected to our purpose?\n"
          ]
        },
        {
          "name": "stderr",
          "output_type": "stream",
          "text": [
            "The attention mask and the pad token id were not set. As a consequence, you may observe unexpected behavior. Please pass your input's `attention_mask` to obtain reliable results.\n",
            "Setting `pad_token_id` to `eos_token_id`:50256 for open-end generation.\n"
          ]
        },
        {
          "name": "stdout",
          "output_type": "stream",
          "text": [
            "  Batch 1,100  of  2,250. Loss: 0.018568886443972588.   Elapsed: 0:09:25.\n",
            "0: As loath to lose him, not your father's death;\n",
            "1: And for my life, I wonder if I had not thought.\n",
            "2: But I know none. My mother bows;\n"
          ]
        },
        {
          "name": "stderr",
          "output_type": "stream",
          "text": [
            "The attention mask and the pad token id were not set. As a consequence, you may observe unexpected behavior. Please pass your input's `attention_mask` to obtain reliable results.\n",
            "Setting `pad_token_id` to `eos_token_id`:50256 for open-end generation.\n"
          ]
        },
        {
          "name": "stdout",
          "output_type": "stream",
          "text": [
            "  Batch 1,200  of  2,250. Loss: 0.024769283831119537.   Elapsed: 0:10:16.\n",
            "0: He cannot tell who caused his father's death,\n",
            "1: Why did you hear the lamentations of Poor Anne?\n",
            "2: And so once more I did return that promise--\n"
          ]
        },
        {
          "name": "stderr",
          "output_type": "stream",
          "text": [
            "The attention mask and the pad token id were not set. As a consequence, you may observe unexpected behavior. Please pass your input's `attention_mask` to obtain reliable results.\n",
            "Setting `pad_token_id` to `eos_token_id`:50256 for open-end generation.\n"
          ]
        },
        {
          "name": "stdout",
          "output_type": "stream",
          "text": [
            "  Batch 1,300  of  2,250. Loss: 0.029903005808591843.   Elapsed: 0:11:07.\n",
            "0: Withal obdurate, untimely brought to light,\n",
            "1: Take thy office from thee to the people;\n",
            "2: Even as these shows, my lord, were you suppose,\n"
          ]
        },
        {
          "name": "stderr",
          "output_type": "stream",
          "text": [
            "The attention mask and the pad token id were not set. As a consequence, you may observe unexpected behavior. Please pass your input's `attention_mask` to obtain reliable results.\n",
            "Setting `pad_token_id` to `eos_token_id`:50256 for open-end generation.\n"
          ]
        },
        {
          "name": "stdout",
          "output_type": "stream",
          "text": [
            "  Batch 1,400  of  2,250. Loss: 0.03459358215332031.   Elapsed: 0:11:59.\n",
            "0: The tribunes for his country are requited,\n",
            "1: Have made them mules, silenced their pleaders and\n",
            "2: The gods will revenge it, and the people\n"
          ]
        },
        {
          "name": "stderr",
          "output_type": "stream",
          "text": [
            "The attention mask and the pad token id were not set. As a consequence, you may observe unexpected behavior. Please pass your input's `attention_mask` to obtain reliable results.\n",
            "Setting `pad_token_id` to `eos_token_id`:50256 for open-end generation.\n"
          ]
        },
        {
          "name": "stdout",
          "output_type": "stream",
          "text": [
            "  Batch 1,500  of  2,250. Loss: 0.019632311537861824.   Elapsed: 0:12:50.\n",
            "0: Now with a grain a day, I would not buy\n",
            "1: Where you shall find me well accompanied\n",
            "2: I am their fathers mother; I will see them both.\n"
          ]
        },
        {
          "name": "stderr",
          "output_type": "stream",
          "text": [
            "The attention mask and the pad token id were not set. As a consequence, you may observe unexpected behavior. Please pass your input's `attention_mask` to obtain reliable results.\n",
            "Setting `pad_token_id` to `eos_token_id`:50256 for open-end generation.\n"
          ]
        },
        {
          "name": "stdout",
          "output_type": "stream",
          "text": [
            "  Batch 1,600  of  2,250. Loss: 0.021603478118777275.   Elapsed: 0:13:41.\n",
            "0: My wife hath nor honesty nor grace. Therefore, good people,--\n",
            "1: And we will pamper it with lamentations.\n",
            "2: To banish Aufidius 'head;' and he Romans,\n"
          ]
        },
        {
          "name": "stderr",
          "output_type": "stream",
          "text": [
            "The attention mask and the pad token id were not set. As a consequence, you may observe unexpected behavior. Please pass your input's `attention_mask` to obtain reliable results.\n",
            "Setting `pad_token_id` to `eos_token_id`:50256 for open-end generation.\n"
          ]
        },
        {
          "name": "stdout",
          "output_type": "stream",
          "text": [
            "  Batch 1,700  of  2,250. Loss: 0.01818348839879036.   Elapsed: 0:14:33.\n",
            "0: For which in all this presence speaks your grace?\n",
            "1: He and Aufidius are at the one;\n",
            "2: Of all the trades in Rome. Look, I say, I would not\n"
          ]
        },
        {
          "name": "stderr",
          "output_type": "stream",
          "text": [
            "The attention mask and the pad token id were not set. As a consequence, you may observe unexpected behavior. Please pass your input's `attention_mask` to obtain reliable results.\n",
            "Setting `pad_token_id` to `eos_token_id`:50256 for open-end generation.\n"
          ]
        },
        {
          "name": "stdout",
          "output_type": "stream",
          "text": [
            "  Batch 1,800  of  2,250. Loss: 0.020610645413398743.   Elapsed: 0:15:24.\n",
            "0: Our aery buildeth in your aery's nest.\n",
            "1: Who knows not that the noble duke is dead?\n",
            "2: His answer was, the people were not wont\n"
          ]
        },
        {
          "name": "stderr",
          "output_type": "stream",
          "text": [
            "The attention mask and the pad token id were not set. As a consequence, you may observe unexpected behavior. Please pass your input's `attention_mask` to obtain reliable results.\n",
            "Setting `pad_token_id` to `eos_token_id`:50256 for open-end generation.\n"
          ]
        },
        {
          "name": "stdout",
          "output_type": "stream",
          "text": [
            "  Batch 1,900  of  2,250. Loss: 0.029563436284661293.   Elapsed: 0:16:15.\n",
            "0: You are too senseless--obstinate, if it were light enough.\n",
            "1: Behold, a book of prayer in his hand,\n",
            "2: I will not have intelligence to speak\n"
          ]
        },
        {
          "name": "stderr",
          "output_type": "stream",
          "text": [
            "The attention mask and the pad token id were not set. As a consequence, you may observe unexpected behavior. Please pass your input's `attention_mask` to obtain reliable results.\n",
            "Setting `pad_token_id` to `eos_token_id`:50256 for open-end generation.\n"
          ]
        },
        {
          "name": "stdout",
          "output_type": "stream",
          "text": [
            "  Batch 2,000  of  2,250. Loss: 0.034127362072467804.   Elapsed: 0:17:07.\n",
            "0: My uncle Rivers talk'd how I did grow\n",
            "1: I have forgot my part, and I am out,\n",
            "2: Who will I make before I let thee go.\n"
          ]
        },
        {
          "name": "stderr",
          "output_type": "stream",
          "text": [
            "The attention mask and the pad token id were not set. As a consequence, you may observe unexpected behavior. Please pass your input's `attention_mask` to obtain reliable results.\n",
            "Setting `pad_token_id` to `eos_token_id`:50256 for open-end generation.\n"
          ]
        },
        {
          "name": "stdout",
          "output_type": "stream",
          "text": [
            "  Batch 2,100  of  2,250. Loss: 0.02165374346077442.   Elapsed: 0:17:58.\n",
            "0: In congregations, to yawn, be still and wonder,\n",
            "1: And then hurl down their indignation\n",
            "2: But if you were a slave, or your own death,\n"
          ]
        },
        {
          "name": "stderr",
          "output_type": "stream",
          "text": [
            "The attention mask and the pad token id were not set. As a consequence, you may observe unexpected behavior. Please pass your input's `attention_mask` to obtain reliable results.\n",
            "Setting `pad_token_id` to `eos_token_id`:50256 for open-end generation.\n"
          ]
        },
        {
          "name": "stdout",
          "output_type": "stream",
          "text": [
            "  Batch 2,200  of  2,250. Loss: 0.03182494640350342.   Elapsed: 0:18:49.\n",
            "0: How more unfortunate than all living women\n",
            "1: The noble father of our Lord of York! O, the son!\n",
            "2: What is the news? what news? what news?\n",
            "\n",
            "  Average training loss: 0.02\n",
            "  Training epoch took: 0:19:15\n",
            "\n",
            "Running Validation...\n",
            "  Validation Loss: 0.10\n",
            "  Validation took: 0:00:39\n",
            "\n",
            "======== Epoch 5 / 5 ========\n",
            "Training...\n"
          ]
        },
        {
          "name": "stderr",
          "output_type": "stream",
          "text": [
            "The attention mask and the pad token id were not set. As a consequence, you may observe unexpected behavior. Please pass your input's `attention_mask` to obtain reliable results.\n",
            "Setting `pad_token_id` to `eos_token_id`:50256 for open-end generation.\n"
          ]
        },
        {
          "name": "stdout",
          "output_type": "stream",
          "text": [
            "  Batch   100  of  2,250. Loss: 0.013578733429312706.   Elapsed: 0:00:51.\n",
            "0: If thou increase his evil, increase his evil;\n",
            "1: Wherein this trunk was framed, and in her hand\n",
            "2: He cannot choose. I am most fortunate, thus\n"
          ]
        },
        {
          "name": "stderr",
          "output_type": "stream",
          "text": [
            "The attention mask and the pad token id were not set. As a consequence, you may observe unexpected behavior. Please pass your input's `attention_mask` to obtain reliable results.\n",
            "Setting `pad_token_id` to `eos_token_id`:50256 for open-end generation.\n"
          ]
        },
        {
          "name": "stdout",
          "output_type": "stream",
          "text": [
            "  Batch   200  of  2,250. Loss: 0.01588723622262478.   Elapsed: 0:01:42.\n",
            "0: We have been called so of many; not all so\n",
            "1: Which we disdain should tatter us, yet sought\n",
            "2: As you were fore-advised, had touch'd his spirit\n"
          ]
        },
        {
          "name": "stderr",
          "output_type": "stream",
          "text": [
            "The attention mask and the pad token id were not set. As a consequence, you may observe unexpected behavior. Please pass your input's `attention_mask` to obtain reliable results.\n",
            "Setting `pad_token_id` to `eos_token_id`:50256 for open-end generation.\n"
          ]
        },
        {
          "name": "stdout",
          "output_type": "stream",
          "text": [
            "  Batch   300  of  2,250. Loss: 0.013822167180478573.   Elapsed: 0:02:33.\n",
            "0: We are the greater poll, and in true fear\n",
            "1: Than crave the hire which first we do deserve.\n",
            "2: We pout upon the morning, are unapt\n"
          ]
        },
        {
          "name": "stderr",
          "output_type": "stream",
          "text": [
            "The attention mask and the pad token id were not set. As a consequence, you may observe unexpected behavior. Please pass your input's `attention_mask` to obtain reliable results.\n",
            "Setting `pad_token_id` to `eos_token_id`:50256 for open-end generation.\n"
          ]
        },
        {
          "name": "stdout",
          "output_type": "stream",
          "text": [
            "  Batch   400  of  2,250. Loss: 0.015963252633810043.   Elapsed: 0:03:25.\n",
            "0: We have a power on foot; and I had purpose\n",
            "1: When he did stand for consul, which he lost\n",
            "2: No, to White-Friars; there attend my coining.\n"
          ]
        },
        {
          "name": "stderr",
          "output_type": "stream",
          "text": [
            "The attention mask and the pad token id were not set. As a consequence, you may observe unexpected behavior. Please pass your input's `attention_mask` to obtain reliable results.\n",
            "Setting `pad_token_id` to `eos_token_id`:50256 for open-end generation.\n"
          ]
        },
        {
          "name": "stdout",
          "output_type": "stream",
          "text": [
            "  Batch   500  of  2,250. Loss: 0.015628207474946976.   Elapsed: 0:04:16.\n",
            "0: If thou delight to view thy heinous deeds,\n",
            "1: What, dost thou scorn me for my gentle counsel?\n",
            "2: You are sent for to the Capitol. 'Tis thought\n"
          ]
        },
        {
          "name": "stderr",
          "output_type": "stream",
          "text": [
            "The attention mask and the pad token id were not set. As a consequence, you may observe unexpected behavior. Please pass your input's `attention_mask` to obtain reliable results.\n",
            "Setting `pad_token_id` to `eos_token_id`:50256 for open-end generation.\n"
          ]
        },
        {
          "name": "stdout",
          "output_type": "stream",
          "text": [
            "  Batch   600  of  2,250. Loss: 0.01320668961852789.   Elapsed: 0:05:07.\n",
            "0: For the instalment of this noble duke\n",
            "1: That's sure of death without it, at once pluck out\n",
            "2: He was to begin and give away\n"
          ]
        },
        {
          "name": "stderr",
          "output_type": "stream",
          "text": [
            "The attention mask and the pad token id were not set. As a consequence, you may observe unexpected behavior. Please pass your input's `attention_mask` to obtain reliable results.\n",
            "Setting `pad_token_id` to `eos_token_id`:50256 for open-end generation.\n"
          ]
        },
        {
          "name": "stdout",
          "output_type": "stream",
          "text": [
            "  Batch   700  of  2,250. Loss: 0.014776433818042278.   Elapsed: 0:05:58.\n",
            "0: To pray for them that have done scathe to us.\n",
            "1: And the most merciless that e'er was heard of!\n",
            "2: What cause soever, in this our after-meeting,\n"
          ]
        },
        {
          "name": "stderr",
          "output_type": "stream",
          "text": [
            "The attention mask and the pad token id were not set. As a consequence, you may observe unexpected behavior. Please pass your input's `attention_mask` to obtain reliable results.\n",
            "Setting `pad_token_id` to `eos_token_id`:50256 for open-end generation.\n"
          ]
        },
        {
          "name": "stdout",
          "output_type": "stream",
          "text": [
            "  Batch   800  of  2,250. Loss: 0.014988873153924942.   Elapsed: 0:06:50.\n",
            "0: You, that do object the same to him;\n",
            "1: Why, hark you the noise that banish'd him?\n",
            "2: Withal I did infer your lineaments,\n"
          ]
        },
        {
          "name": "stderr",
          "output_type": "stream",
          "text": [
            "The attention mask and the pad token id were not set. As a consequence, you may observe unexpected behavior. Please pass your input's `attention_mask` to obtain reliable results.\n",
            "Setting `pad_token_id` to `eos_token_id`:50256 for open-end generation.\n"
          ]
        },
        {
          "name": "stdout",
          "output_type": "stream",
          "text": [
            "  Batch   900  of  2,250. Loss: 0.016906552016735077.   Elapsed: 0:07:41.\n",
            "0: Hath in eternal darkness folded up.\n",
            "1: The time will come when thou shalt wish for me\n",
            "2: Than shame to our Romans: and we here deliver,\n"
          ]
        },
        {
          "name": "stderr",
          "output_type": "stream",
          "text": [
            "The attention mask and the pad token id were not set. As a consequence, you may observe unexpected behavior. Please pass your input's `attention_mask` to obtain reliable results.\n",
            "Setting `pad_token_id` to `eos_token_id`:50256 for open-end generation.\n"
          ]
        },
        {
          "name": "stdout",
          "output_type": "stream",
          "text": [
            "  Batch 1,000  of  2,250. Loss: 0.016745008528232574.   Elapsed: 0:08:32.\n",
            "0: Thou art their soldier, and being bred in broils\n",
            "1: His master's son, as worshipful as he terms it,\n",
            "2: But what's the matter, Clarence?  may I know?\n"
          ]
        },
        {
          "name": "stderr",
          "output_type": "stream",
          "text": [
            "The attention mask and the pad token id were not set. As a consequence, you may observe unexpected behavior. Please pass your input's `attention_mask` to obtain reliable results.\n",
            "Setting `pad_token_id` to `eos_token_id`:50256 for open-end generation.\n"
          ]
        },
        {
          "name": "stdout",
          "output_type": "stream",
          "text": [
            "  Batch 1,100  of  2,250. Loss: 0.01440624799579382.   Elapsed: 0:09:23.\n",
            "0: With a drum, a drum, a drum, and\n",
            "1: His master's son, as worshipful as he terms it,\n",
            "2: Tent in my cheeks, and schoolboys' tears take up\n"
          ]
        },
        {
          "name": "stderr",
          "output_type": "stream",
          "text": [
            "The attention mask and the pad token id were not set. As a consequence, you may observe unexpected behavior. Please pass your input's `attention_mask` to obtain reliable results.\n",
            "Setting `pad_token_id` to `eos_token_id`:50256 for open-end generation.\n"
          ]
        },
        {
          "name": "stdout",
          "output_type": "stream",
          "text": [
            "  Batch 1,200  of  2,250. Loss: 0.015153178945183754.   Elapsed: 0:10:15.\n",
            "0: I long with all my heart to see the prince:\n",
            "1: No way from yourselves. What do you think,\n",
            "2: How say you sir? Can you deny all this?\n"
          ]
        },
        {
          "name": "stderr",
          "output_type": "stream",
          "text": [
            "The attention mask and the pad token id were not set. As a consequence, you may observe unexpected behavior. Please pass your input's `attention_mask` to obtain reliable results.\n",
            "Setting `pad_token_id` to `eos_token_id`:50256 for open-end generation.\n"
          ]
        },
        {
          "name": "stdout",
          "output_type": "stream",
          "text": [
            "  Batch 1,300  of  2,250. Loss: 0.016729557886719704.   Elapsed: 0:11:06.\n",
            "0: And presently, when you have drawn your number,\n",
            "1: We have not yet set down this day of triumph.\n",
            "2: Our dear Redeemer, we must not\n"
          ]
        },
        {
          "name": "stderr",
          "output_type": "stream",
          "text": [
            "The attention mask and the pad token id were not set. As a consequence, you may observe unexpected behavior. Please pass your input's `attention_mask` to obtain reliable results.\n",
            "Setting `pad_token_id` to `eos_token_id`:50256 for open-end generation.\n"
          ]
        },
        {
          "name": "stdout",
          "output_type": "stream",
          "text": [
            "  Batch 1,400  of  2,250. Loss: 0.013561655767261982.   Elapsed: 0:11:57.\n",
            "0: What stays had we but Clarence? and he's gone.\n",
            "1: Your beauty: which did haunt me in my sleep\n",
            "2: My lord, with all despite; notwithstanding that,\n"
          ]
        },
        {
          "name": "stderr",
          "output_type": "stream",
          "text": [
            "The attention mask and the pad token id were not set. As a consequence, you may observe unexpected behavior. Please pass your input's `attention_mask` to obtain reliable results.\n",
            "Setting `pad_token_id` to `eos_token_id`:50256 for open-end generation.\n"
          ]
        },
        {
          "name": "stdout",
          "output_type": "stream",
          "text": [
            "  Batch 1,500  of  2,250. Loss: 0.013673834502696991.   Elapsed: 0:12:48.\n",
            "0: With bloody passage led your wars even to\n",
            "1: Why, madam, you three, on me, threefold distress'd,\n",
            "2: I'll go meet the ladies. This Volumnia\n"
          ]
        },
        {
          "name": "stderr",
          "output_type": "stream",
          "text": [
            "The attention mask and the pad token id were not set. As a consequence, you may observe unexpected behavior. Please pass your input's `attention_mask` to obtain reliable results.\n",
            "Setting `pad_token_id` to `eos_token_id`:50256 for open-end generation.\n"
          ]
        },
        {
          "name": "stdout",
          "output_type": "stream",
          "text": [
            "  Batch 1,600  of  2,250. Loss: 0.014394824393093586.   Elapsed: 0:13:40.\n",
            "0: What black magician conjures up this fiend,\n",
            "1: With those that have the wit to claim the place:\n",
            "2: In sign of league and amity with thee:\n"
          ]
        },
        {
          "name": "stderr",
          "output_type": "stream",
          "text": [
            "The attention mask and the pad token id were not set. As a consequence, you may observe unexpected behavior. Please pass your input's `attention_mask` to obtain reliable results.\n",
            "Setting `pad_token_id` to `eos_token_id`:50256 for open-end generation.\n"
          ]
        },
        {
          "name": "stdout",
          "output_type": "stream",
          "text": [
            "  Batch 1,700  of  2,250. Loss: 0.014842750504612923.   Elapsed: 0:14:31.\n",
            "0: He that will be won to a better husband than\n",
            "1: Where is your ancient courage? you were used\n",
            "2: The people mutinous; and it is rumour'd,\n"
          ]
        },
        {
          "name": "stderr",
          "output_type": "stream",
          "text": [
            "The attention mask and the pad token id were not set. As a consequence, you may observe unexpected behavior. Please pass your input's `attention_mask` to obtain reliable results.\n",
            "Setting `pad_token_id` to `eos_token_id`:50256 for open-end generation.\n"
          ]
        },
        {
          "name": "stdout",
          "output_type": "stream",
          "text": [
            "  Batch 1,800  of  2,250. Loss: 0.014317634515464306.   Elapsed: 0:15:22.\n",
            "0: In my opinion, ought to be prevented.\n",
            "1: But you shall be new-christen'd in the Tower.\n",
            "2: He has neither claim'd it nor deserved it; for\n"
          ]
        },
        {
          "name": "stderr",
          "output_type": "stream",
          "text": [
            "The attention mask and the pad token id were not set. As a consequence, you may observe unexpected behavior. Please pass your input's `attention_mask` to obtain reliable results.\n",
            "Setting `pad_token_id` to `eos_token_id`:50256 for open-end generation.\n"
          ]
        },
        {
          "name": "stdout",
          "output_type": "stream",
          "text": [
            "  Batch 1,900  of  2,250. Loss: 0.019634775817394257.   Elapsed: 0:16:13.\n",
            "0: Forgive my tyranny; but do not say\n",
            "1: By circumstance, but to thy cursed self.\n",
            "2: If they do hold the same intent wherein\n"
          ]
        },
        {
          "name": "stderr",
          "output_type": "stream",
          "text": [
            "The attention mask and the pad token id were not set. As a consequence, you may observe unexpected behavior. Please pass your input's `attention_mask` to obtain reliable results.\n",
            "Setting `pad_token_id` to `eos_token_id`:50256 for open-end generation.\n"
          ]
        },
        {
          "name": "stdout",
          "output_type": "stream",
          "text": [
            "  Batch 2,000  of  2,250. Loss: 0.015451528131961823.   Elapsed: 0:17:04.\n",
            "0: Than pity to our prayers. Down: an end;\n",
            "1: He proved best man i' the field, and for his meed\n",
            "2: The time will come when thou shalt wish for me\n"
          ]
        },
        {
          "name": "stderr",
          "output_type": "stream",
          "text": [
            "The attention mask and the pad token id were not set. As a consequence, you may observe unexpected behavior. Please pass your input's `attention_mask` to obtain reliable results.\n",
            "Setting `pad_token_id` to `eos_token_id`:50256 for open-end generation.\n"
          ]
        },
        {
          "name": "stdout",
          "output_type": "stream",
          "text": [
            "  Batch 2,100  of  2,250. Loss: 0.0142725994810462.   Elapsed: 0:17:56.\n",
            "0: And that, to cut off those that have offended him?\n",
            "1: Thou liest: and thy great father Warwick\n",
            "2: Why, so: now have I done a good day's work:\n"
          ]
        },
        {
          "name": "stderr",
          "output_type": "stream",
          "text": [
            "The attention mask and the pad token id were not set. As a consequence, you may observe unexpected behavior. Please pass your input's `attention_mask` to obtain reliable results.\n",
            "Setting `pad_token_id` to `eos_token_id`:50256 for open-end generation.\n"
          ]
        },
        {
          "name": "stdout",
          "output_type": "stream",
          "text": [
            "  Batch 2,200  of  2,250. Loss: 0.016001665964722633.   Elapsed: 0:18:47.\n",
            "0: A hundred thousand welcomes. I could weep\n",
            "1: The news is, sir, the Volsces are in arms.\n",
            "2: My friends of noble touch, when I am forth,\n",
            "\n",
            "  Average training loss: 0.02\n",
            "  Training epoch took: 0:19:13\n",
            "\n",
            "Running Validation...\n",
            "  Validation Loss: 0.12\n",
            "  Validation took: 0:00:39\n",
            "\n",
            "Training complete!\n",
            "Total training took 1:39:20 (h:mm:ss)\n"
          ]
        }
      ],
      "source": [
        "total_t0 = time.time()\n",
        "\n",
        "training_stats = []\n",
        "\n",
        "model = model.to(device)\n",
        "\n",
        "for epoch_i in range(0, epochs):\n",
        "\n",
        "    # ========================================\n",
        "    #               Training\n",
        "    # ========================================\n",
        "\n",
        "    print(\"\")\n",
        "    print('======== Epoch {:} / {:} ========'.format(epoch_i + 1, epochs))\n",
        "    print('Training...')\n",
        "\n",
        "    t0 = time.time()\n",
        "\n",
        "    total_train_loss = 0\n",
        "\n",
        "    model.train()\n",
        "\n",
        "    for step, batch in enumerate(train_dataloader):\n",
        "\n",
        "        b_input_ids = batch[0].to(device)\n",
        "        b_labels = batch[0].to(device)\n",
        "        b_masks = batch[1].to(device)\n",
        "\n",
        "        model.zero_grad()\n",
        "\n",
        "        outputs = model(  b_input_ids,\n",
        "                          labels=b_labels,\n",
        "                          attention_mask = b_masks,\n",
        "                          token_type_ids=None\n",
        "                        )\n",
        "\n",
        "        loss = outputs[0]\n",
        "\n",
        "        batch_loss = loss.item()\n",
        "        total_train_loss += batch_loss\n",
        "\n",
        "        # Get sample every x batches.\n",
        "        if step % sample_every == 0 and not step == 0:\n",
        "\n",
        "            elapsed = format_time(time.time() - t0)\n",
        "            print('  Batch {:>5,}  of  {:>5,}. Loss: {:>5,}.   Elapsed: {:}.'.format(step, len(train_dataloader), batch_loss, elapsed))\n",
        "\n",
        "            model.eval()\n",
        "\n",
        "            prompt = \"<|startoftext|>\"\n",
        "            generated = torch.tensor(tokenizer.encode(prompt)).unsqueeze(0)\n",
        "            generated = generated.to(device)\n",
        "            sample_outputs = model.generate(\n",
        "                                generated,\n",
        "                                do_sample=True,\n",
        "                                top_k=50,\n",
        "                                max_length=300,\n",
        "                                top_p=0.95,\n",
        "                                num_return_sequences=3\n",
        "                                )\n",
        "\n",
        "\n",
        "            for i, sample_output in enumerate(sample_outputs):\n",
        "                  print(\"{}: {}\".format(i, tokenizer.decode(sample_output, skip_special_tokens=True)))\n",
        "\n",
        "            model.train()\n",
        "\n",
        "        loss.backward()\n",
        "\n",
        "        optimizer.step()\n",
        "\n",
        "        scheduler.step()\n",
        "\n",
        "    # Calculate the average loss over all of the batches.\n",
        "    avg_train_loss = total_train_loss / len(train_dataloader)\n",
        "\n",
        "    # Measure how long this epoch took.\n",
        "    training_time = format_time(time.time() - t0)\n",
        "\n",
        "    print(\"\")\n",
        "    print(\"  Average training loss: {0:.2f}\".format(avg_train_loss))\n",
        "    print(\"  Training epoch took: {:}\".format(training_time))\n",
        "\n",
        "    # ========================================\n",
        "    #               Validation\n",
        "    # ========================================\n",
        "\n",
        "    print(\"\")\n",
        "    print(\"Running Validation...\")\n",
        "\n",
        "    t0 = time.time()\n",
        "\n",
        "    model.eval()\n",
        "\n",
        "    total_eval_loss = 0\n",
        "    nb_eval_steps = 0\n",
        "\n",
        "    # Evaluate data for one epoch\n",
        "    for batch in validation_dataloader:\n",
        "\n",
        "        b_input_ids = batch[0].to(device)\n",
        "        b_labels = batch[0].to(device)\n",
        "        b_masks = batch[1].to(device)\n",
        "\n",
        "        with torch.no_grad():\n",
        "\n",
        "            outputs  = model(b_input_ids,\n",
        "                             attention_mask = b_masks,\n",
        "                            labels=b_labels)\n",
        "\n",
        "            loss = outputs[0]\n",
        "\n",
        "        batch_loss = loss.item()\n",
        "        total_eval_loss += batch_loss\n",
        "\n",
        "    avg_val_loss = total_eval_loss / len(validation_dataloader)\n",
        "\n",
        "    validation_time = format_time(time.time() - t0)\n",
        "\n",
        "    print(\"  Validation Loss: {0:.2f}\".format(avg_val_loss))\n",
        "    print(\"  Validation took: {:}\".format(validation_time))\n",
        "\n",
        "    # Record all statistics from this epoch.\n",
        "    training_stats.append(\n",
        "        {\n",
        "            'epoch': epoch_i + 1,\n",
        "            'Training Loss': avg_train_loss,\n",
        "            'Valid. Loss': avg_val_loss,\n",
        "            'Training Time': training_time,\n",
        "            'Validation Time': validation_time\n",
        "        }\n",
        "    )\n",
        "\n",
        "print(\"\")\n",
        "print(\"Training complete!\")\n",
        "print(\"Total training took {:} (h:mm:ss)\".format(format_time(time.time()-total_t0)))"
      ]
    },
    {
      "cell_type": "markdown",
      "metadata": {
        "id": "VQTvJ1vRP7u4"
      },
      "source": [
        "Let's view the summary of the training process."
      ]
    },
    {
      "cell_type": "code",
      "execution_count": null,
      "metadata": {
        "id": "6O_NbXFGMukX",
        "outputId": "d2027940-5708-40bb-af16-9ccfc2bf2fa5"
      },
      "outputs": [
        {
          "data": {
            "text/html": [
              "<div>\n",
              "<style scoped>\n",
              "    .dataframe tbody tr th:only-of-type {\n",
              "        vertical-align: middle;\n",
              "    }\n",
              "\n",
              "    .dataframe tbody tr th {\n",
              "        vertical-align: top;\n",
              "    }\n",
              "\n",
              "    .dataframe thead th {\n",
              "        text-align: right;\n",
              "    }\n",
              "</style>\n",
              "<table border=\"1\" class=\"dataframe\">\n",
              "  <thead>\n",
              "    <tr style=\"text-align: right;\">\n",
              "      <th></th>\n",
              "      <th>Training Loss</th>\n",
              "      <th>Valid. Loss</th>\n",
              "      <th>Training Time</th>\n",
              "      <th>Validation Time</th>\n",
              "    </tr>\n",
              "    <tr>\n",
              "      <th>epoch</th>\n",
              "      <th></th>\n",
              "      <th></th>\n",
              "      <th></th>\n",
              "      <th></th>\n",
              "    </tr>\n",
              "  </thead>\n",
              "  <tbody>\n",
              "    <tr>\n",
              "      <th>1</th>\n",
              "      <td>0.080258</td>\n",
              "      <td>0.072329</td>\n",
              "      <td>0:19:10</td>\n",
              "      <td>0:00:39</td>\n",
              "    </tr>\n",
              "    <tr>\n",
              "      <th>2</th>\n",
              "      <td>0.058971</td>\n",
              "      <td>0.075096</td>\n",
              "      <td>0:19:15</td>\n",
              "      <td>0:00:39</td>\n",
              "    </tr>\n",
              "    <tr>\n",
              "      <th>3</th>\n",
              "      <td>0.042026</td>\n",
              "      <td>0.083113</td>\n",
              "      <td>0:19:12</td>\n",
              "      <td>0:00:39</td>\n",
              "    </tr>\n",
              "    <tr>\n",
              "      <th>4</th>\n",
              "      <td>0.024382</td>\n",
              "      <td>0.097625</td>\n",
              "      <td>0:19:15</td>\n",
              "      <td>0:00:39</td>\n",
              "    </tr>\n",
              "    <tr>\n",
              "      <th>5</th>\n",
              "      <td>0.015508</td>\n",
              "      <td>0.115535</td>\n",
              "      <td>0:19:13</td>\n",
              "      <td>0:00:39</td>\n",
              "    </tr>\n",
              "  </tbody>\n",
              "</table>\n",
              "</div>"
            ],
            "text/plain": [
              "       Training Loss  Valid. Loss Training Time Validation Time\n",
              "epoch                                                          \n",
              "1           0.080258     0.072329       0:19:10         0:00:39\n",
              "2           0.058971     0.075096       0:19:15         0:00:39\n",
              "3           0.042026     0.083113       0:19:12         0:00:39\n",
              "4           0.024382     0.097625       0:19:15         0:00:39\n",
              "5           0.015508     0.115535       0:19:13         0:00:39"
            ]
          },
          "execution_count": 21,
          "metadata": {},
          "output_type": "execute_result"
        }
      ],
      "source": [
        "# Create a DataFrame from our training statistics.\n",
        "df_stats = pd.DataFrame(data=training_stats)\n",
        "\n",
        "# Use the 'epoch' as the row index.\n",
        "df_stats = df_stats.set_index('epoch')\n",
        "\n",
        "# Display the table.\n",
        "df_stats"
      ]
    },
    {
      "cell_type": "code",
      "execution_count": null,
      "metadata": {
        "id": "68xreA9JAmG5",
        "outputId": "bb147064-c71e-4776-8580-a49b26f43c8e"
      },
      "outputs": [
        {
          "data": {
            "image/png": "[encoded data removed]",
            "text/plain": [
              "<Figure size 1200x600 with 1 Axes>"
            ]
          },
          "metadata": {},
          "output_type": "display_data"
        }
      ],
      "source": [
        "# Use plot styling from seaborn.\n",
        "sns.set(style='darkgrid')\n",
        "\n",
        "# Increase the plot size and font size.\n",
        "sns.set(font_scale=1.5)\n",
        "plt.rcParams[\"figure.figsize\"] = (12,6)\n",
        "\n",
        "# Plot the learning curve.\n",
        "plt.plot(df_stats['Training Loss'], 'b-o', label=\"Training\")\n",
        "plt.plot(df_stats['Valid. Loss'], 'g-o', label=\"Validation\")\n",
        "\n",
        "# Label the plot.\n",
        "plt.title(\"Training & Validation Loss\")\n",
        "plt.xlabel(\"Epoch\")\n",
        "plt.ylabel(\"Loss\")\n",
        "plt.legend()\n",
        "plt.xticks([1, 2, 3, 4])\n",
        "\n",
        "plt.show()"
      ]
    },
    {
      "cell_type": "markdown",
      "metadata": {
        "id": "q2079Qyn8Mt8"
      },
      "source": [
        "# Saving & Loading Fine-Tuned Model\n"
      ]
    },
    {
      "cell_type": "code",
      "execution_count": null,
      "metadata": {
        "id": "6ulTWaOr8QNY",
        "outputId": "44f83120-e47a-446d-e18c-8ddce21c29ac"
      },
      "outputs": [
        {
          "name": "stdout",
          "output_type": "stream",
          "text": [
            "Saving model to ./model_save/\n"
          ]
        },
        {
          "data": {
            "text/plain": [
              "('./model_save/tokenizer_config.json',\n",
              " './model_save/special_tokens_map.json',\n",
              " './model_save/vocab.json',\n",
              " './model_save/merges.txt',\n",
              " './model_save/added_tokens.json')"
            ]
          },
          "execution_count": 23,
          "metadata": {},
          "output_type": "execute_result"
        }
      ],
      "source": [
        "# Saving best-practices: if you use defaults names for the model, you can reload it using from_pretrained()\n",
        "output_dir = './model_save/'\n",
        "\n",
        "# Create output directory if needed\n",
        "if not os.path.exists(output_dir):\n",
        "    os.makedirs(output_dir)\n",
        "\n",
        "print(f'Saving model to {output_dir}')\n",
        "\n",
        "# Save a trained model, configuration and tokenizer using `save_pretrained()`.\n",
        "# They can then be reloaded using `from_pretrained()`\n",
        "model_to_save = model.module if hasattr(model, 'module') else model  # Take care of distributed/parallel training\n",
        "model_to_save.save_pretrained(output_dir)\n",
        "tokenizer.save_pretrained(output_dir)"
      ]
    },
    {
      "cell_type": "code",
      "execution_count": null,
      "metadata": {
        "id": "mqMzI3VTCZo5",
        "outputId": "a09d9cfb-452e-4fd4-a0d1-5d9c5038cfb0"
      },
      "outputs": [
        {
          "name": "stdout",
          "output_type": "stream",
          "text": [
            "total 1387512K\n",
            "-rw-rw-r-- 1 scott scott       1K May  6 13:31 added_tokens.json\n",
            "-rw-rw-r-- 1 scott scott       1K May  6 13:30 config.json\n",
            "-rw-rw-r-- 1 scott scott       1K May  6 13:30 generation_config.json\n",
            "-rw-rw-r-- 1 scott scott     446K May  6 13:31 merges.txt\n",
            "-rw-rw-r-- 1 scott scott 1386066K May  6 13:31 model.safetensors\n",
            "-rw-rw-r-- 1 scott scott       1K May  6 13:31 special_tokens_map.json\n",
            "-rw-rw-r-- 1 scott scott       1K May  6 13:31 tokenizer_config.json\n",
            "-rw-rw-r-- 1 scott scott     976K May  6 13:31 vocab.json\n"
          ]
        }
      ],
      "source": [
        "!ls -l --block-size=K ./model_save/"
      ]
    },
    {
      "cell_type": "markdown",
      "metadata": {
        "id": "QS_ISrU0LJ7i"
      },
      "source": [
        "## For this example, we'll just zip up the folder\n",
        "Then the zip file can be downloaded manually.\n",
        "\n",
        "A better idea might be to connect your notebook to your Google Drive and save the file there automatically."
      ]
    },
    {
      "cell_type": "code",
      "execution_count": null,
      "metadata": {
        "id": "NxlZsafTC-V5",
        "outputId": "7f1617df-f550-4104-c3fc-11e12678bc4b"
      },
      "outputs": [
        {
          "name": "stdout",
          "output_type": "stream",
          "text": [
            "  adding: model_save/\t(in=0) (out=0) (stored 0%)\n",
            "  adding: model_save/vocab.json \t(in=999186) (out=319813) (deflated 68%)\n",
            "  adding: model_save/merges.txt \t(in=456318) (out=213309) (deflated 53%)\n",
            "  adding: model_save/generation_config.json\t(in=119) (out=90) (deflated 24%)\n",
            "  adding: model_save/added_tokens.json\t(in=51) (out=41) (deflated 20%)\n",
            "  adding: model_save/config.json\t(in=967) (out=461) (deflated 52%)\n",
            "  adding: model_save/tokenizer_config.json\t(in=873) (out=261) (deflated 70%)\n",
            "  adding: model_save/model.safetensors .......................................................................................................................................\t(in=1419331072) (out=1317878944) (deflated 7%)\n",
            "  adding: model_save/special_tokens_map.json\t(in=579) (out=128) (deflated 78%)\n",
            "total bytes=1420789165, compressed=1318413047 -> 7% savings\n"
          ]
        }
      ],
      "source": [
        "# zip up the folder\n",
        "!zip -rv gpt2_model.zip ./model_save/"
      ]
    },
    {
      "cell_type": "markdown",
      "metadata": {
        "id": "eioG2zQ1Leq8"
      },
      "source": [
        "## Restoring saved model"
      ]
    },
    {
      "cell_type": "code",
      "execution_count": null,
      "metadata": {
        "id": "MMtWjx-lLiHT"
      },
      "outputs": [],
      "source": [
        "# unzip\n",
        "# !unzip gpt2_model.zip\n",
        "\n",
        "# Load a trained model and vocabulary that you have fine-tuned\n",
        "#model = GPT2LMHeadModel.from_pretrained(output_dir)\n",
        "#tokenizer = GPT2Tokenizer.from_pretrained(output_dir)\n",
        "#model.to(device)"
      ]
    },
    {
      "cell_type": "markdown",
      "metadata": {
        "id": "ZLf6rbRglYhQ"
      },
      "source": [
        "# Generate Text"
      ]
    },
    {
      "cell_type": "code",
      "execution_count": null,
      "metadata": {
        "id": "v4XhewaV93-_",
        "outputId": "1b4b12ee-a8ab-4a3f-faae-d8360615028f"
      },
      "outputs": [
        {
          "name": "stdout",
          "output_type": "stream",
          "text": [
            "0: harkens on him, and scorns him; even so most assured\n",
            "\n",
            "\n",
            "1: harkens and noise be our instruction.\n",
            "\n",
            "\n",
            "2: harkens the morning, and the noon-tide night.\n",
            "\n",
            "\n",
            "3: harkens after prophecies and dreams;\n",
            "\n",
            "\n",
            "4: harkens and noise o' the monster's, wants not spirit\n",
            "\n",
            "\n"
          ]
        }
      ],
      "source": [
        "model.eval()\n",
        "\n",
        "prompt = 'hark'\n",
        "generated = torch.tensor(tokenizer.encode(prompt)).unsqueeze(0)\n",
        "generated = generated.to(device)\n",
        "\n",
        "sample_outputs = model.generate(\n",
        "                                generated,\n",
        "                                do_sample=True,\n",
        "                                top_k=100,\n",
        "                                max_length = 800,\n",
        "                                top_p=0.95,\n",
        "                                num_return_sequences=5,\n",
        "                                pad_token_id=tokenizer.eos_token_id\n",
        "                                )\n",
        "\n",
        "for i, sample_output in enumerate(sample_outputs):\n",
        "  print(\"{}: {}\\n\\n\".format(i, tokenizer.decode(sample_output, skip_special_tokens=True)))\n"
      ]
    },
    {
      "cell_type": "code",
      "execution_count": null,
      "metadata": {
        "id": "6GiZsUHvSLF2"
      },
      "outputs": [],
      "source": []
    }
  ],
  "metadata": {
    "accelerator": "GPU",
    "colab": {
      "gpuType": "T4",
      "provenance": [],
      "include_colab_link": true
    },
    "kernelspec": {
      "display_name": "Python 3 (ipykernel)",
      "language": "python",
      "name": "python3"
    },
    "language_info": {
      "codemirror_mode": {
        "name": "ipython",
        "version": 3
      },
      "file_extension": ".py",
      "mimetype": "text/x-python",
      "name": "python",
      "nbconvert_exporter": "python",
      "pygments_lexer": "ipython3",
      "version": "3.11.3"
    }
  },
  "nbformat": 4,
  "nbformat_minor": 0
}